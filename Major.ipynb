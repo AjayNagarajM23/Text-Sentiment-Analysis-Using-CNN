{
 "cells": [
  {
   "attachments": {},
   "cell_type": "markdown",
   "metadata": {},
   "source": [
    "# 1.Reading The Data"
   ]
  },
  {
   "cell_type": "code",
   "execution_count": 1,
   "metadata": {},
   "outputs": [
    {
     "name": "stderr",
     "output_type": "stream",
     "text": [
      "[nltk_data] Downloading package stopwords to\n",
      "[nltk_data]     /home/ajaynagarajm/nltk_data...\n",
      "[nltk_data]   Package stopwords is already up-to-date!\n"
     ]
    },
    {
     "data": {
      "text/plain": [
       "True"
      ]
     },
     "execution_count": 1,
     "metadata": {},
     "output_type": "execute_result"
    }
   ],
   "source": [
    "import nltk\n",
    "nltk.download('stopwords')"
   ]
  },
  {
   "cell_type": "code",
   "execution_count": 2,
   "metadata": {},
   "outputs": [
    {
     "data": {
      "text/html": [
       "<div>\n",
       "<style scoped>\n",
       "    .dataframe tbody tr th:only-of-type {\n",
       "        vertical-align: middle;\n",
       "    }\n",
       "\n",
       "    .dataframe tbody tr th {\n",
       "        vertical-align: top;\n",
       "    }\n",
       "\n",
       "    .dataframe thead th {\n",
       "        text-align: right;\n",
       "    }\n",
       "</style>\n",
       "<table border=\"1\" class=\"dataframe\">\n",
       "  <thead>\n",
       "    <tr style=\"text-align: right;\">\n",
       "      <th></th>\n",
       "      <th>text</th>\n",
       "      <th>task1</th>\n",
       "      <th>task2</th>\n",
       "    </tr>\n",
       "  </thead>\n",
       "  <tbody>\n",
       "    <tr>\n",
       "      <th>0</th>\n",
       "      <td>hate wen females hit ah nigga with tht bro 😂😂,...</td>\n",
       "      <td>HOF</td>\n",
       "      <td>PRFN</td>\n",
       "    </tr>\n",
       "    <tr>\n",
       "      <th>1</th>\n",
       "      <td>RT @airjunebug: When you're from the Bay but y...</td>\n",
       "      <td>HOF</td>\n",
       "      <td>PRFN</td>\n",
       "    </tr>\n",
       "    <tr>\n",
       "      <th>2</th>\n",
       "      <td>RT @DonaldJTrumpJr: Dear Democrats: The Americ...</td>\n",
       "      <td>NOT</td>\n",
       "      <td>NONE</td>\n",
       "    </tr>\n",
       "    <tr>\n",
       "      <th>3</th>\n",
       "      <td>RT @SheLoveTimothy: He ain’t on drugs he just ...</td>\n",
       "      <td>NOT</td>\n",
       "      <td>PRFN</td>\n",
       "    </tr>\n",
       "    <tr>\n",
       "      <th>4</th>\n",
       "      <td>RT @TavianJordan: Summer ‘19 I’m coming for yo...</td>\n",
       "      <td>NOT</td>\n",
       "      <td>NONE</td>\n",
       "    </tr>\n",
       "  </tbody>\n",
       "</table>\n",
       "</div>"
      ],
      "text/plain": [
       "                                                text task1 task2\n",
       "0  hate wen females hit ah nigga with tht bro 😂😂,...   HOF  PRFN\n",
       "1  RT @airjunebug: When you're from the Bay but y...   HOF  PRFN\n",
       "2  RT @DonaldJTrumpJr: Dear Democrats: The Americ...   NOT  NONE\n",
       "3  RT @SheLoveTimothy: He ain’t on drugs he just ...   NOT  PRFN\n",
       "4  RT @TavianJordan: Summer ‘19 I’m coming for yo...   NOT  NONE"
      ]
     },
     "execution_count": 2,
     "metadata": {},
     "output_type": "execute_result"
    }
   ],
   "source": [
    "import pandas as pd\n",
    "\n",
    "data = pd.read_csv(\"hasoc.csv\")\n",
    "\n",
    "df = data[['text', 'task1', 'task2']]\n",
    "\n",
    "df.head()"
   ]
  },
  {
   "attachments": {},
   "cell_type": "markdown",
   "metadata": {},
   "source": [
    "# 2 . Pre-Processing"
   ]
  },
  {
   "attachments": {},
   "cell_type": "markdown",
   "metadata": {},
   "source": [
    "### 2.1 Lower Casing"
   ]
  },
  {
   "cell_type": "code",
   "execution_count": 3,
   "metadata": {},
   "outputs": [
    {
     "name": "stderr",
     "output_type": "stream",
     "text": [
      "/tmp/ipykernel_49706/2257667112.py:1: SettingWithCopyWarning: \n",
      "A value is trying to be set on a copy of a slice from a DataFrame.\n",
      "Try using .loc[row_indexer,col_indexer] = value instead\n",
      "\n",
      "See the caveats in the documentation: https://pandas.pydata.org/pandas-docs/stable/user_guide/indexing.html#returning-a-view-versus-a-copy\n",
      "  df['clean_msg'] = df['text'].apply(lambda x: x.lower())\n"
     ]
    },
    {
     "data": {
      "text/plain": [
       "0    hate wen females hit ah nigga with tht bro 😂😂,...\n",
       "1    rt @airjunebug: when you're from the bay but y...\n",
       "2    rt @donaldjtrumpjr: dear democrats: the americ...\n",
       "3    rt @shelovetimothy: he ain’t on drugs he just ...\n",
       "4    rt @tavianjordan: summer ‘19 i’m coming for yo...\n",
       "Name: clean_msg, dtype: object"
      ]
     },
     "execution_count": 3,
     "metadata": {},
     "output_type": "execute_result"
    }
   ],
   "source": [
    "df['clean_msg'] = df['text'].apply(lambda x: x.lower())\n",
    "df['clean_msg'].head()"
   ]
  },
  {
   "attachments": {},
   "cell_type": "markdown",
   "metadata": {},
   "source": [
    "### 2.2  Removal of Punctuations"
   ]
  },
  {
   "cell_type": "code",
   "execution_count": 4,
   "metadata": {},
   "outputs": [
    {
     "name": "stdout",
     "output_type": "stream",
     "text": [
      "!\"#$%&'()*+,-./:;<=>?@[\\]^_`{|}~\n"
     ]
    },
    {
     "name": "stderr",
     "output_type": "stream",
     "text": [
      "/tmp/ipykernel_49706/1785397522.py:12: SettingWithCopyWarning: \n",
      "A value is trying to be set on a copy of a slice from a DataFrame.\n",
      "Try using .loc[row_indexer,col_indexer] = value instead\n",
      "\n",
      "See the caveats in the documentation: https://pandas.pydata.org/pandas-docs/stable/user_guide/indexing.html#returning-a-view-versus-a-copy\n",
      "  df['clean_msg'] = df['clean_msg'].apply(lambda x:remove_punctuation(x))\n"
     ]
    },
    {
     "data": {
      "text/plain": [
       "0    hate wen females hit ah nigga with tht bro 😂😂 ...\n",
       "1    rt airjunebug when youre from the bay but your...\n",
       "2    rt donaldjtrumpjr dear democrats the american ...\n",
       "3    rt shelovetimothy he ain’t on drugs he just bo...\n",
       "4    rt tavianjordan summer ‘19 i’m coming for you ...\n",
       "Name: clean_msg, dtype: object"
      ]
     },
     "execution_count": 4,
     "metadata": {},
     "output_type": "execute_result"
    }
   ],
   "source": [
    "#library that contains punctuation\n",
    "import string\n",
    "# list of all punctuations we have\n",
    "print(string.punctuation)\n",
    " \n",
    "#defining the function to remove punctuation\n",
    "def remove_punctuation(text):\n",
    "    punctuationfree=\"\".join([i for i in text if i not in string.punctuation])\n",
    "    return punctuationfree\n",
    " \n",
    "#storing the punctuation free text for both training and testing data\n",
    "df['clean_msg'] = df['clean_msg'].apply(lambda x:remove_punctuation(x))\n",
    "df['clean_msg'].head()"
   ]
  },
  {
   "attachments": {},
   "cell_type": "markdown",
   "metadata": {},
   "source": [
    "### 2.3 Removal of Stopwords in Text Pre-processing"
   ]
  },
  {
   "cell_type": "code",
   "execution_count": 5,
   "metadata": {},
   "outputs": [
    {
     "data": {
      "text/plain": [
       "\"i, me, my, myself, we, our, ours, ourselves, you, you're, you've, you'll, you'd, your, yours, yourself, yourselves, he, him, his, himself, she, she's, her, hers, herself, it, it's, its, itself, they, them, their, theirs, themselves, what, which, who, whom, this, that, that'll, these, those, am, is, are, was, were, be, been, being, have, has, had, having, do, does, did, doing, a, an, the, and, but, if, or, because, as, until, while, of, at, by, for, with, about, against, between, into, through, during, before, after, above, below, to, from, up, down, in, out, on, off, over, under, again, further, then, once, here, there, when, where, why, how, all, any, both, each, few, more, most, other, some, such, no, nor, not, only, own, same, so, than, too, very, s, t, can, will, just, don, don't, should, should've, now, d, ll, m, o, re, ve, y, ain, aren, aren't, couldn, couldn't, didn, didn't, doesn, doesn't, hadn, hadn't, hasn, hasn't, haven, haven't, isn, isn't, ma, mightn, mightn't, mustn, mustn't, needn, needn't, shan, shan't, shouldn, shouldn't, wasn, wasn't, weren, weren't, won, won't, wouldn, wouldn't\""
      ]
     },
     "execution_count": 5,
     "metadata": {},
     "output_type": "execute_result"
    }
   ],
   "source": [
    "from nltk.corpus import stopwords\n",
    "\", \".join(stopwords.words('english'))"
   ]
  },
  {
   "cell_type": "code",
   "execution_count": 6,
   "metadata": {},
   "outputs": [
    {
     "data": {
      "text/plain": [
       "0    [hate, wen, females, hit, ah, nigga, with, tht...\n",
       "1    [rt, airjunebug, when, youre, from, the, bay, ...\n",
       "2    [rt, donaldjtrumpjr, dear, democrats, the, ame...\n",
       "3    [rt, shelovetimothy, he, ain’t, on, drugs, he,...\n",
       "4    [rt, tavianjordan, summer, ‘19, i’m, coming, f...\n",
       "Name: tokenised_clean_msg, dtype: object"
      ]
     },
     "execution_count": 6,
     "metadata": {},
     "output_type": "execute_result"
    }
   ],
   "source": [
    "#defining function for tokenization\n",
    "import re\n",
    "#whitespace tokenizer\n",
    "from nltk.tokenize import WhitespaceTokenizer\n",
    "tk = WhitespaceTokenizer()\n",
    "def tokenization(text):\n",
    "    return tk.tokenize(text)\n",
    " \n",
    "#applying function to the column for making tokens in both Training and Testing data\n",
    "df['tokenised_clean_msg']= df['clean_msg'].apply(lambda x: tokenization(x))\n",
    "df['tokenised_clean_msg'].head()"
   ]
  },
  {
   "cell_type": "code",
   "execution_count": 7,
   "metadata": {},
   "outputs": [
    {
     "name": "stderr",
     "output_type": "stream",
     "text": [
      "[nltk_data] Downloading package stopwords to\n",
      "[nltk_data]     /home/ajaynagarajm/nltk_data...\n",
      "[nltk_data]   Package stopwords is already up-to-date!\n"
     ]
    },
    {
     "data": {
      "text/plain": [
       "0    [hate, wen, females, hit, ah, nigga, tht, bro,...\n",
       "1    [rt, airjunebug, youre, bay, youre, really, ny...\n",
       "2    [rt, donaldjtrumpjr, dear, democrats, american...\n",
       "3    [rt, shelovetimothy, ain’t, drugs, bored, shit...\n",
       "4    [rt, tavianjordan, summer, ‘19, i’m, coming, b...\n",
       "Name: cleaned_tokens, dtype: object"
      ]
     },
     "execution_count": 7,
     "metadata": {},
     "output_type": "execute_result"
    }
   ],
   "source": [
    "#importing nlp library\n",
    "import nltk\n",
    "nltk.download('stopwords')\n",
    "#Stop words present in the library\n",
    "stopwords = nltk.corpus.stopwords.words('english')\n",
    " \n",
    "#defining the function to remove stopwords from tokenized text\n",
    "def remove_stopwords(text):\n",
    "    output= [i for i in text if i not in stopwords]\n",
    "    return output\n",
    " \n",
    "#applying the function for removal of stopwords\n",
    "df['cleaned_tokens']= df['tokenised_clean_msg'].apply(lambda x:remove_stopwords(x))\n",
    "df['cleaned_tokens'].head()"
   ]
  },
  {
   "attachments": {},
   "cell_type": "markdown",
   "metadata": {},
   "source": [
    "### 2.6 Removing Emojis"
   ]
  },
  {
   "cell_type": "code",
   "execution_count": 8,
   "metadata": {},
   "outputs": [
    {
     "name": "stdout",
     "output_type": "stream",
     "text": [
      "Requirement already satisfied: clean-text in ./venv/lib/python3.11/site-packages (0.6.0)\n",
      "Requirement already satisfied: emoji<2.0.0,>=1.0.0 in ./venv/lib/python3.11/site-packages (from clean-text) (1.7.0)\n",
      "Requirement already satisfied: ftfy<7.0,>=6.0 in ./venv/lib/python3.11/site-packages (from clean-text) (6.1.1)\n",
      "Requirement already satisfied: wcwidth>=0.2.5 in ./venv/lib/python3.11/site-packages (from ftfy<7.0,>=6.0->clean-text) (0.2.6)\n"
     ]
    }
   ],
   "source": [
    "! pip install clean-text"
   ]
  },
  {
   "cell_type": "code",
   "execution_count": 9,
   "metadata": {},
   "outputs": [
    {
     "name": "stderr",
     "output_type": "stream",
     "text": [
      "Since the GPL-licensed package `unidecode` is not installed, using Python's `unicodedata` package which yields worse results.\n"
     ]
    },
    {
     "data": {
      "text/plain": [
       "0       ['hate', 'wen', 'females', 'hit', 'ah', 'nigga...\n",
       "1       ['rt', 'airjunebug', 'youre', 'bay', 'youre', ...\n",
       "2       ['rt', 'donaldjtrumpjr', 'dear', 'democrats', ...\n",
       "3       ['rt', 'shelovetimothy', 'ain't', 'drugs', 'bo...\n",
       "4       ['rt', 'tavianjordan', 'summer', ''19', 'i'm',...\n",
       "                              ...                        \n",
       "3789    ['rt', 'filthyart', 'tonight', 'tonight', 'ton...\n",
       "3790                    ['rt', 'abbn0rmal', 'eat', 'ass']\n",
       "3791    ['rt', 'flytpa', 'breaking', 'news', 'tpa', 'g...\n",
       "3792    ['rt', 'starrtharapper', 'it's', 'hr', 'fuck',...\n",
       "3793               ['dont', 'know', 'iam', 'know', 'you']\n",
       "Name: cleaned_tokens, Length: 3794, dtype: object"
      ]
     },
     "execution_count": 9,
     "metadata": {},
     "output_type": "execute_result"
    }
   ],
   "source": [
    "#df['cleaned_tokens'] = df['cleaned_tokens'].str.replace('[^A-Za-z0-9]', '', flags=re.UNICODE)\n",
    "from cleantext import clean\n",
    "\n",
    "def rem_em(text):\n",
    "    clean_txt = clean(text, no_emoji=True)\n",
    "    return clean_txt\n",
    "\n",
    "df['cleaned_tokens'] = df['cleaned_tokens'].apply(lambda x: rem_em(x))\n",
    "df['cleaned_tokens']"
   ]
  },
  {
   "cell_type": "code",
   "execution_count": 10,
   "metadata": {},
   "outputs": [
    {
     "data": {
      "text/html": [
       "<div>\n",
       "<style scoped>\n",
       "    .dataframe tbody tr th:only-of-type {\n",
       "        vertical-align: middle;\n",
       "    }\n",
       "\n",
       "    .dataframe tbody tr th {\n",
       "        vertical-align: top;\n",
       "    }\n",
       "\n",
       "    .dataframe thead th {\n",
       "        text-align: right;\n",
       "    }\n",
       "</style>\n",
       "<table border=\"1\" class=\"dataframe\">\n",
       "  <thead>\n",
       "    <tr style=\"text-align: right;\">\n",
       "      <th></th>\n",
       "      <th>text</th>\n",
       "      <th>task1</th>\n",
       "      <th>task2</th>\n",
       "      <th>clean_msg</th>\n",
       "      <th>tokenised_clean_msg</th>\n",
       "      <th>cleaned_tokens</th>\n",
       "    </tr>\n",
       "  </thead>\n",
       "  <tbody>\n",
       "    <tr>\n",
       "      <th>0</th>\n",
       "      <td>hate wen females hit ah nigga with tht bro 😂😂,...</td>\n",
       "      <td>HOF</td>\n",
       "      <td>PRFN</td>\n",
       "      <td>hate wen females hit ah nigga with tht bro 😂😂 ...</td>\n",
       "      <td>[hate, wen, females, hit, ah, nigga, with, tht...</td>\n",
       "      <td>['hate', 'wen', 'females', 'hit', 'ah', 'nigga...</td>\n",
       "    </tr>\n",
       "    <tr>\n",
       "      <th>1</th>\n",
       "      <td>RT @airjunebug: When you're from the Bay but y...</td>\n",
       "      <td>HOF</td>\n",
       "      <td>PRFN</td>\n",
       "      <td>rt airjunebug when youre from the bay but your...</td>\n",
       "      <td>[rt, airjunebug, when, youre, from, the, bay, ...</td>\n",
       "      <td>['rt', 'airjunebug', 'youre', 'bay', 'youre', ...</td>\n",
       "    </tr>\n",
       "    <tr>\n",
       "      <th>2</th>\n",
       "      <td>RT @DonaldJTrumpJr: Dear Democrats: The Americ...</td>\n",
       "      <td>NOT</td>\n",
       "      <td>NONE</td>\n",
       "      <td>rt donaldjtrumpjr dear democrats the american ...</td>\n",
       "      <td>[rt, donaldjtrumpjr, dear, democrats, the, ame...</td>\n",
       "      <td>['rt', 'donaldjtrumpjr', 'dear', 'democrats', ...</td>\n",
       "    </tr>\n",
       "    <tr>\n",
       "      <th>3</th>\n",
       "      <td>RT @SheLoveTimothy: He ain’t on drugs he just ...</td>\n",
       "      <td>NOT</td>\n",
       "      <td>PRFN</td>\n",
       "      <td>rt shelovetimothy he ain’t on drugs he just bo...</td>\n",
       "      <td>[rt, shelovetimothy, he, ain’t, on, drugs, he,...</td>\n",
       "      <td>['rt', 'shelovetimothy', 'ain't', 'drugs', 'bo...</td>\n",
       "    </tr>\n",
       "    <tr>\n",
       "      <th>4</th>\n",
       "      <td>RT @TavianJordan: Summer ‘19 I’m coming for yo...</td>\n",
       "      <td>NOT</td>\n",
       "      <td>NONE</td>\n",
       "      <td>rt tavianjordan summer ‘19 i’m coming for you ...</td>\n",
       "      <td>[rt, tavianjordan, summer, ‘19, i’m, coming, f...</td>\n",
       "      <td>['rt', 'tavianjordan', 'summer', ''19', 'i'm',...</td>\n",
       "    </tr>\n",
       "    <tr>\n",
       "      <th>...</th>\n",
       "      <td>...</td>\n",
       "      <td>...</td>\n",
       "      <td>...</td>\n",
       "      <td>...</td>\n",
       "      <td>...</td>\n",
       "      <td>...</td>\n",
       "    </tr>\n",
       "    <tr>\n",
       "      <th>3789</th>\n",
       "      <td>RT @FilthyArt_: TONIGHT TONIGHT TONIGHT \\n\\nCa...</td>\n",
       "      <td>NOT</td>\n",
       "      <td>NONE</td>\n",
       "      <td>rt filthyart tonight tonight tonight \\n\\ncatch...</td>\n",
       "      <td>[rt, filthyart, tonight, tonight, tonight, cat...</td>\n",
       "      <td>['rt', 'filthyart', 'tonight', 'tonight', 'ton...</td>\n",
       "    </tr>\n",
       "    <tr>\n",
       "      <th>3790</th>\n",
       "      <td>RT @abbn0rmal_: Eat my ass</td>\n",
       "      <td>HOF</td>\n",
       "      <td>PRFN</td>\n",
       "      <td>rt abbn0rmal eat my ass</td>\n",
       "      <td>[rt, abbn0rmal, eat, my, ass]</td>\n",
       "      <td>['rt', 'abbn0rmal', 'eat', 'ass']</td>\n",
       "    </tr>\n",
       "    <tr>\n",
       "      <th>3791</th>\n",
       "      <td>RT @FlyTPA: BREAKING NEWS: TPA is about to get...</td>\n",
       "      <td>NOT</td>\n",
       "      <td>NONE</td>\n",
       "      <td>rt flytpa breaking news tpa is about to get ev...</td>\n",
       "      <td>[rt, flytpa, breaking, news, tpa, is, about, t...</td>\n",
       "      <td>['rt', 'flytpa', 'breaking', 'news', 'tpa', 'g...</td>\n",
       "    </tr>\n",
       "    <tr>\n",
       "      <th>3792</th>\n",
       "      <td>RT @StarrThaRapper: It’s been a hr FUCK THAT G...</td>\n",
       "      <td>HOF</td>\n",
       "      <td>PRFN</td>\n",
       "      <td>rt starrtharapper it’s been a hr fuck that gam...</td>\n",
       "      <td>[rt, starrtharapper, it’s, been, a, hr, fuck, ...</td>\n",
       "      <td>['rt', 'starrtharapper', 'it's', 'hr', 'fuck',...</td>\n",
       "    </tr>\n",
       "    <tr>\n",
       "      <th>3793</th>\n",
       "      <td>You don't know who iam but i know you😄</td>\n",
       "      <td>NOT</td>\n",
       "      <td>NONE</td>\n",
       "      <td>you dont know who iam but i know you😄</td>\n",
       "      <td>[you, dont, know, who, iam, but, i, know, you😄]</td>\n",
       "      <td>['dont', 'know', 'iam', 'know', 'you']</td>\n",
       "    </tr>\n",
       "  </tbody>\n",
       "</table>\n",
       "<p>3794 rows × 6 columns</p>\n",
       "</div>"
      ],
      "text/plain": [
       "                                                   text task1 task2   \n",
       "0     hate wen females hit ah nigga with tht bro 😂😂,...   HOF  PRFN  \\\n",
       "1     RT @airjunebug: When you're from the Bay but y...   HOF  PRFN   \n",
       "2     RT @DonaldJTrumpJr: Dear Democrats: The Americ...   NOT  NONE   \n",
       "3     RT @SheLoveTimothy: He ain’t on drugs he just ...   NOT  PRFN   \n",
       "4     RT @TavianJordan: Summer ‘19 I’m coming for yo...   NOT  NONE   \n",
       "...                                                 ...   ...   ...   \n",
       "3789  RT @FilthyArt_: TONIGHT TONIGHT TONIGHT \\n\\nCa...   NOT  NONE   \n",
       "3790                         RT @abbn0rmal_: Eat my ass   HOF  PRFN   \n",
       "3791  RT @FlyTPA: BREAKING NEWS: TPA is about to get...   NOT  NONE   \n",
       "3792  RT @StarrThaRapper: It’s been a hr FUCK THAT G...   HOF  PRFN   \n",
       "3793             You don't know who iam but i know you😄   NOT  NONE   \n",
       "\n",
       "                                              clean_msg   \n",
       "0     hate wen females hit ah nigga with tht bro 😂😂 ...  \\\n",
       "1     rt airjunebug when youre from the bay but your...   \n",
       "2     rt donaldjtrumpjr dear democrats the american ...   \n",
       "3     rt shelovetimothy he ain’t on drugs he just bo...   \n",
       "4     rt tavianjordan summer ‘19 i’m coming for you ...   \n",
       "...                                                 ...   \n",
       "3789  rt filthyart tonight tonight tonight \\n\\ncatch...   \n",
       "3790                            rt abbn0rmal eat my ass   \n",
       "3791  rt flytpa breaking news tpa is about to get ev...   \n",
       "3792  rt starrtharapper it’s been a hr fuck that gam...   \n",
       "3793              you dont know who iam but i know you😄   \n",
       "\n",
       "                                    tokenised_clean_msg   \n",
       "0     [hate, wen, females, hit, ah, nigga, with, tht...  \\\n",
       "1     [rt, airjunebug, when, youre, from, the, bay, ...   \n",
       "2     [rt, donaldjtrumpjr, dear, democrats, the, ame...   \n",
       "3     [rt, shelovetimothy, he, ain’t, on, drugs, he,...   \n",
       "4     [rt, tavianjordan, summer, ‘19, i’m, coming, f...   \n",
       "...                                                 ...   \n",
       "3789  [rt, filthyart, tonight, tonight, tonight, cat...   \n",
       "3790                      [rt, abbn0rmal, eat, my, ass]   \n",
       "3791  [rt, flytpa, breaking, news, tpa, is, about, t...   \n",
       "3792  [rt, starrtharapper, it’s, been, a, hr, fuck, ...   \n",
       "3793    [you, dont, know, who, iam, but, i, know, you😄]   \n",
       "\n",
       "                                         cleaned_tokens  \n",
       "0     ['hate', 'wen', 'females', 'hit', 'ah', 'nigga...  \n",
       "1     ['rt', 'airjunebug', 'youre', 'bay', 'youre', ...  \n",
       "2     ['rt', 'donaldjtrumpjr', 'dear', 'democrats', ...  \n",
       "3     ['rt', 'shelovetimothy', 'ain't', 'drugs', 'bo...  \n",
       "4     ['rt', 'tavianjordan', 'summer', ''19', 'i'm',...  \n",
       "...                                                 ...  \n",
       "3789  ['rt', 'filthyart', 'tonight', 'tonight', 'ton...  \n",
       "3790                  ['rt', 'abbn0rmal', 'eat', 'ass']  \n",
       "3791  ['rt', 'flytpa', 'breaking', 'news', 'tpa', 'g...  \n",
       "3792  ['rt', 'starrtharapper', 'it's', 'hr', 'fuck',...  \n",
       "3793             ['dont', 'know', 'iam', 'know', 'you']  \n",
       "\n",
       "[3794 rows x 6 columns]"
      ]
     },
     "execution_count": 10,
     "metadata": {},
     "output_type": "execute_result"
    }
   ],
   "source": [
    "df"
   ]
  },
  {
   "cell_type": "code",
   "execution_count": 11,
   "metadata": {},
   "outputs": [],
   "source": [
    "final_df = df[['cleaned_tokens', 'task1', 'task2']]\n",
    "final_df.to_csv(\"final_data.csv\", index=False)"
   ]
  },
  {
   "cell_type": "code",
   "execution_count": 12,
   "metadata": {},
   "outputs": [
    {
     "data": {
      "text/plain": [
       "array([\"['hate', 'wen', 'females', 'hit', 'ah', 'nigga', 'tht', 'bro', '', 'i'm', 'tryna', 'make', 'u', 'la', 'sweety', 'fuck', 'ah', 'bro']\",\n",
       "       \"['rt', 'airjunebug', 'youre', 'bay', 'youre', 'really', 'ny', 'nigga', 'heart', 'w', 'supportcaleon', 'httpstcomz8baylnlf']\",\n",
       "       \"['rt', 'donaldjtrumpjr', 'dear', 'democrats', 'american', 'people', 'aren't', 'stupid', 'know', 'spying', 'amount', 'gaslighting', 'change', 'th']\",\n",
       "       ...,\n",
       "       \"['rt', 'flytpa', 'breaking', 'news', 'tpa', 'get', 'even', 'better', 'plans', '2020', '', 'mothers', 'nursing', 'rooms', '', 'water', 'bottle', 'filling', 'st']\",\n",
       "       \"['rt', 'starrtharapper', 'it's', 'hr', 'fuck', 'game', '', 'httpstcoaki6bw8qlz']\",\n",
       "       \"['dont', 'know', 'iam', 'know', 'you']\"], dtype=object)"
      ]
     },
     "execution_count": 12,
     "metadata": {},
     "output_type": "execute_result"
    }
   ],
   "source": [
    "x = df['cleaned_tokens'].values\n",
    "x"
   ]
  },
  {
   "cell_type": "code",
   "execution_count": 13,
   "metadata": {},
   "outputs": [
    {
     "data": {
      "text/plain": [
       "3794"
      ]
     },
     "execution_count": 13,
     "metadata": {},
     "output_type": "execute_result"
    }
   ],
   "source": [
    "len(x)"
   ]
  },
  {
   "cell_type": "code",
   "execution_count": 14,
   "metadata": {},
   "outputs": [
    {
     "data": {
      "text/plain": [
       "array(['HOF', 'HOF', 'NOT', ..., 'NOT', 'HOF', 'NOT'], dtype=object)"
      ]
     },
     "execution_count": 14,
     "metadata": {},
     "output_type": "execute_result"
    }
   ],
   "source": [
    "y1 = df['task1'].values\n",
    "y1"
   ]
  },
  {
   "cell_type": "code",
   "execution_count": 15,
   "metadata": {},
   "outputs": [
    {
     "data": {
      "text/plain": [
       "0    0\n",
       "1    0\n",
       "2    1\n",
       "3    1\n",
       "4    1\n",
       "Name: msg_type, dtype: int64"
      ]
     },
     "execution_count": 15,
     "metadata": {},
     "output_type": "execute_result"
    }
   ],
   "source": [
    "# Map ham label as 0 and spam as 1\n",
    "from sklearn.model_selection import train_test_split\n",
    "\n",
    "df['msg_type']= df['task1'].map({'HOF': 0, 'NOT': 1})\n",
    "msg_label = df['msg_type']\n",
    "# Split data into train and test\n",
    "train_msg, test_msg, train_labels, test_labels = train_test_split(df['cleaned_tokens'], msg_label, test_size=0.2, random_state=434)\n",
    "msg_label.head()"
   ]
  },
  {
   "cell_type": "code",
   "execution_count": 16,
   "metadata": {},
   "outputs": [
    {
     "name": "stdout",
     "output_type": "stream",
     "text": [
      " 34\n"
     ]
    }
   ],
   "source": [
    "# Defining pre-processing hyperparameters\n",
    "max_len = max([len(s.split()) for s in train_msg])\n",
    "print(\"\", max_len)"
   ]
  },
  {
   "cell_type": "code",
   "execution_count": 17,
   "metadata": {},
   "outputs": [
    {
     "name": "stderr",
     "output_type": "stream",
     "text": [
      "2023-05-31 22:35:55.882861: I tensorflow/core/util/port.cc:110] oneDNN custom operations are on. You may see slightly different numerical results due to floating-point round-off errors from different computation orders. To turn them off, set the environment variable `TF_ENABLE_ONEDNN_OPTS=0`.\n",
      "2023-05-31 22:35:55.885161: I tensorflow/tsl/cuda/cudart_stub.cc:28] Could not find cuda drivers on your machine, GPU will not be used.\n",
      "2023-05-31 22:35:55.920106: I tensorflow/tsl/cuda/cudart_stub.cc:28] Could not find cuda drivers on your machine, GPU will not be used.\n",
      "2023-05-31 22:35:55.921162: I tensorflow/core/platform/cpu_feature_guard.cc:182] This TensorFlow binary is optimized to use available CPU instructions in performance-critical operations.\n",
      "To enable the following instructions: AVX2 AVX512F AVX512_VNNI FMA, in other operations, rebuild TensorFlow with the appropriate compiler flags.\n",
      "2023-05-31 22:35:56.566370: W tensorflow/compiler/tf2tensorrt/utils/py_utils.cc:38] TF-TRT Warning: Could not find TensorRT\n"
     ]
    }
   ],
   "source": [
    "from keras.preprocessing.text import Tokenizer\n",
    "\n",
    "tokenizer = Tokenizer(num_words = 500)\n",
    "tokenizer.fit_on_texts(train_msg)"
   ]
  },
  {
   "cell_type": "code",
   "execution_count": 18,
   "metadata": {},
   "outputs": [],
   "source": [
    "import pickle\n",
    "\n",
    "# saving\n",
    "with open('tokenizer.pickle', 'wb') as handle:\n",
    "    pickle.dump(tokenizer, handle, protocol=pickle.HIGHEST_PROTOCOL)\n",
    "\n",
    "# loading\n",
    "with open('tokenizer.pickle', 'rb') as handle:\n",
    "    tokenizer = pickle.load(handle)"
   ]
  },
  {
   "cell_type": "code",
   "execution_count": 19,
   "metadata": {},
   "outputs": [
    {
     "data": {
      "text/plain": [
       "{\"'rt'\": 1,\n",
       " \"''\": 2,\n",
       " \"'fuck'\": 3,\n",
       " \"'\": 4,\n",
       " \"'fucking'\": 5,\n",
       " \"'shit'\": 6,\n",
       " \"'get'\": 7,\n",
       " \"'like'\": 8,\n",
       " \"'go'\": 9,\n",
       " \"'ass'\": 10,\n",
       " \"'need'\": 11,\n",
       " \"'don't'\": 12,\n",
       " \"'you're'\": 13,\n",
       " \"'know'\": 14,\n",
       " \"'people'\": 15,\n",
       " \"'i'm'\": 16,\n",
       " \"'think'\": 17,\n",
       " \"'want'\": 18,\n",
       " \"'youre'\": 19,\n",
       " \"'one'\": 20,\n",
       " \"'bitch'\": 21,\n",
       " \"'never'\": 22,\n",
       " \"'ever'\": 23,\n",
       " \"'going'\": 24,\n",
       " \"'damn'\": 25,\n",
       " \"'got'\": 26,\n",
       " \"'would'\": 27,\n",
       " \"'im'\": 28,\n",
       " \"'tell'\": 29,\n",
       " \"'dont'\": 30,\n",
       " \"'u'\": 31,\n",
       " \"'stupid'\": 32,\n",
       " \"'realdonaldtrump'\": 33,\n",
       " \"'look'\": 34,\n",
       " \"'he's'\": 35,\n",
       " \"'president'\": 36,\n",
       " \"'said'\": 37,\n",
       " \"'really'\": 38,\n",
       " \"'getting'\": 39,\n",
       " \"'trump'\": 40,\n",
       " \"'see'\": 41,\n",
       " \"'amp'\": 42,\n",
       " \"'say'\": 43,\n",
       " \"'stop'\": 44,\n",
       " \"'even'\": 45,\n",
       " \"'sick'\": 46,\n",
       " \"'big'\": 47,\n",
       " \"'y'all'\": 48,\n",
       " \"'away'\": 49,\n",
       " \"'good'\": 50,\n",
       " \"'come'\": 51,\n",
       " \"'today'\": 52,\n",
       " \"'better'\": 53,\n",
       " \"'two'\": 54,\n",
       " \"'still'\": 55,\n",
       " \"'work'\": 56,\n",
       " \"'it's'\": 57,\n",
       " \"'gonna'\": 58,\n",
       " \"'way'\": 59,\n",
       " \"'years'\": 60,\n",
       " \"'lol'\": 61,\n",
       " \"'2019'\": 62,\n",
       " \"'thought'\": 63,\n",
       " \"'everything'\": 64,\n",
       " \"'help'\": 65,\n",
       " \"'love'\": 66,\n",
       " \"'theyre'\": 67,\n",
       " \"'make'\": 68,\n",
       " \"'well'\": 69,\n",
       " \"'time'\": 70,\n",
       " \"'man'\": 71,\n",
       " \"'show'\": 72,\n",
       " \"'give'\": 73,\n",
       " \"'probably'\": 74,\n",
       " \"'always'\": 75,\n",
       " \"'keep'\": 76,\n",
       " \"'found'\": 77,\n",
       " \"'little'\": 78,\n",
       " \"'oh'\": 79,\n",
       " \"'hate'\": 80,\n",
       " \"'white'\": 81,\n",
       " \"'w'\": 82,\n",
       " \"'2'\": 83,\n",
       " \"'can't'\": 84,\n",
       " \"'life'\": 85,\n",
       " \"'right'\": 86,\n",
       " \"'day'\": 87,\n",
       " \"'suck'\": 88,\n",
       " \"'fine'\": 89,\n",
       " \"'that's'\": 90,\n",
       " \"'much'\": 91,\n",
       " \"'hes'\": 92,\n",
       " \"'yo'\": 93,\n",
       " \"'left'\": 94,\n",
       " \"'america'\": 95,\n",
       " \"'us'\": 96,\n",
       " \"'live'\": 97,\n",
       " \"'video'\": 98,\n",
       " \"'die'\": 99,\n",
       " \"'coming'\": 100,\n",
       " \"'nobody'\": 101,\n",
       " \"'okay'\": 102,\n",
       " \"'tonight'\": 103,\n",
       " \"'3'\": 104,\n",
       " \"'world'\": 105,\n",
       " \"'father'\": 106,\n",
       " \"'thats'\": 107,\n",
       " \"'t'\": 108,\n",
       " \"'tired'\": 109,\n",
       " \"'back'\": 110,\n",
       " \"'cant'\": 111,\n",
       " \"'days'\": 112,\n",
       " \"'didn't'\": 113,\n",
       " \"'bit'\": 114,\n",
       " \"'face'\": 115,\n",
       " \"'dumb'\": 116,\n",
       " \"'bts'\": 117,\n",
       " \"'rest'\": 118,\n",
       " \"'hard'\": 119,\n",
       " \"'sorry'\": 120,\n",
       " \"'hand'\": 121,\n",
       " \"'ya'\": 122,\n",
       " \"'someone'\": 123,\n",
       " \"'please'\": 124,\n",
       " \"'btstwt'\": 125,\n",
       " \"'bad'\": 126,\n",
       " \"'wanna'\": 127,\n",
       " \"'trash'\": 128,\n",
       " \"'god'\": 129,\n",
       " \"'game'\": 130,\n",
       " \"'sex'\": 131,\n",
       " \"'could'\": 132,\n",
       " \"'start'\": 133,\n",
       " \"'old'\": 134,\n",
       " \"'something'\": 135,\n",
       " \"'we're'\": 136,\n",
       " \"'actually'\": 137,\n",
       " \"'dad'\": 138,\n",
       " \"'house'\": 139,\n",
       " \"'everyone'\": 140,\n",
       " \"'making'\": 141,\n",
       " \"'may'\": 142,\n",
       " \"'guy'\": 143,\n",
       " \"'put'\": 144,\n",
       " \"'another'\": 145,\n",
       " \"'gone'\": 146,\n",
       " \"'1'\": 147,\n",
       " \"'19'\": 148,\n",
       " \"'racist'\": 149,\n",
       " \"'hell'\": 150,\n",
       " \"'shes'\": 151,\n",
       " \"'literally'\": 152,\n",
       " \"'saying'\": 153,\n",
       " \"'ok'\": 154,\n",
       " \"'20'\": 155,\n",
       " \"'country'\": 156,\n",
       " \"'yall'\": 157,\n",
       " \"'hope'\": 158,\n",
       " \"'liar'\": 159,\n",
       " \"'school'\": 160,\n",
       " \"'i've'\": 161,\n",
       " \"'might'\": 162,\n",
       " \"'idiot'\": 163,\n",
       " \"'th'\": 164,\n",
       " \"'talking'\": 165,\n",
       " \"'feel'\": 166,\n",
       " \"'https'\": 167,\n",
       " \"'thank'\": 168,\n",
       " \"'person'\": 169,\n",
       " \"'4'\": 170,\n",
       " \"'done'\": 171,\n",
       " \"'ready'\": 172,\n",
       " \"'long'\": 173,\n",
       " \"'dick'\": 174,\n",
       " \"'cause'\": 175,\n",
       " \"'next'\": 176,\n",
       " \"'money'\": 177,\n",
       " \"'nigga'\": 178,\n",
       " \"'things'\": 179,\n",
       " \"'whole'\": 180,\n",
       " \"'you'\": 181,\n",
       " \"'around'\": 182,\n",
       " \"'call'\": 183,\n",
       " \"'holy'\": 184,\n",
       " \"'mother'\": 185,\n",
       " \"'made'\": 186,\n",
       " \"'sleep'\": 187,\n",
       " \"'words'\": 188,\n",
       " \"'mouth'\": 189,\n",
       " \"'close'\": 190,\n",
       " \"'question'\": 191,\n",
       " \"'cut'\": 192,\n",
       " \"'wow'\": 193,\n",
       " \"'told'\": 194,\n",
       " \"'date'\": 195,\n",
       " \"'lot'\": 196,\n",
       " \"'mean'\": 197,\n",
       " \"'kids'\": 198,\n",
       " \"'birthday'\": 199,\n",
       " \"'full'\": 200,\n",
       " \"'mom'\": 201,\n",
       " \"'women'\": 202,\n",
       " \"'james'\": 203,\n",
       " \"'ah'\": 204,\n",
       " \"'checked'\": 205,\n",
       " \"'office'\": 206,\n",
       " \"'problem'\": 207,\n",
       " \"'hot'\": 208,\n",
       " \"'means'\": 209,\n",
       " \"'bro'\": 210,\n",
       " \"'worst'\": 211,\n",
       " \"'line'\": 212,\n",
       " \"'she's'\": 213,\n",
       " \"'men'\": 214,\n",
       " \"'many'\": 215,\n",
       " \"'ago'\": 216,\n",
       " \"'abortion'\": 217,\n",
       " \"'gotta'\": 218,\n",
       " \"'take'\": 219,\n",
       " \"'girls'\": 220,\n",
       " \"'vote'\": 221,\n",
       " \"'lying'\": 222,\n",
       " \"'ur'\": 223,\n",
       " \"'nothing'\": 224,\n",
       " \"'friend'\": 225,\n",
       " \"'post'\": 226,\n",
       " \"'looking'\": 227,\n",
       " \"'yet'\": 228,\n",
       " \"'card'\": 229,\n",
       " \"'job'\": 230,\n",
       " \"'fat'\": 231,\n",
       " \"'year'\": 232,\n",
       " \"'anyone'\": 233,\n",
       " \"'rather'\": 234,\n",
       " \"'fact'\": 235,\n",
       " \"'also'\": 236,\n",
       " \"'watch'\": 237,\n",
       " \"'calling'\": 238,\n",
       " \"'business'\": 239,\n",
       " \"'best'\": 240,\n",
       " \"'morning'\": 241,\n",
       " \"'find'\": 242,\n",
       " \"'doesn't'\": 243,\n",
       " \"'instead'\": 244,\n",
       " \"'mr'\": 245,\n",
       " \"'i'\": 246,\n",
       " \"'ain't'\": 247,\n",
       " \"'since'\": 248,\n",
       " \"'niggas'\": 249,\n",
       " \"'spend'\": 250,\n",
       " \"'5'\": 251,\n",
       " \"'free'\": 252,\n",
       " \"'baby'\": 253,\n",
       " \"'pretty'\": 254,\n",
       " \"'b'\": 255,\n",
       " \"'trying'\": 256,\n",
       " \"'talk'\": 257,\n",
       " \"'name'\": 258,\n",
       " \"'scroll'\": 259,\n",
       " \"'scrolling'\": 260,\n",
       " \"'great'\": 261,\n",
       " \"'automatically'\": 262,\n",
       " \"'future'\": 263,\n",
       " \"'they're'\": 264,\n",
       " \"'needs'\": 265,\n",
       " \"'r'\": 266,\n",
       " \"'clear'\": 267,\n",
       " \"'glad'\": 268,\n",
       " \"'a'\": 269,\n",
       " \"'charles'\": 270,\n",
       " \"'wtf'\": 271,\n",
       " \"'piece'\": 272,\n",
       " \"'obligated'\": 273,\n",
       " \"'son'\": 274,\n",
       " \"'gets'\": 275,\n",
       " \"'followed'\": 276,\n",
       " \"'head'\": 277,\n",
       " \"'late'\": 278,\n",
       " \"'says'\": 279,\n",
       " \"'hurt'\": 280,\n",
       " \"'thing'\": 281,\n",
       " \"'total'\": 282,\n",
       " \"'control'\": 283,\n",
       " \"'use'\": 284,\n",
       " \"'shut'\": 285,\n",
       " \"'f'\": 286,\n",
       " \"'isnt'\": 287,\n",
       " \"'there's'\": 288,\n",
       " \"'crying'\": 289,\n",
       " \"'ive'\": 290,\n",
       " \"'friends'\": 291,\n",
       " \"'went'\": 292,\n",
       " \"you'\": 293,\n",
       " \"'took'\": 294,\n",
       " \"'less'\": 295,\n",
       " \"'concert'\": 296,\n",
       " \"'bye'\": 297,\n",
       " \"'cute'\": 298,\n",
       " \"'bbmastopsocial'\": 299,\n",
       " \"'mental'\": 300,\n",
       " \"'tweet'\": 301,\n",
       " \"'barr'\": 302,\n",
       " \"'lmao'\": 303,\n",
       " \"'h'\": 304,\n",
       " \"'lost'\": 305,\n",
       " \"'real'\": 306,\n",
       " \"'thinking'\": 307,\n",
       " \"'music'\": 308,\n",
       " \"'yeah'\": 309,\n",
       " \"'n'\": 310,\n",
       " \"'ill'\": 311,\n",
       " \"'agree'\": 312,\n",
       " \"'hey'\": 313,\n",
       " \"'you\": 314,\n",
       " \"'mad'\": 315,\n",
       " \"'finally'\": 316,\n",
       " \"'almost'\": 317,\n",
       " \"'nice'\": 318,\n",
       " \"'af'\": 319,\n",
       " \"'let'\": 320,\n",
       " \"'young'\": 321,\n",
       " \"'games'\": 322,\n",
       " \"'omg'\": 323,\n",
       " \"'he'\": 324,\n",
       " \"'called'\": 325,\n",
       " \"'health'\": 326,\n",
       " \"'s'\": 327,\n",
       " \"'saw'\": 328,\n",
       " \"'jobs'\": 329,\n",
       " \"'asked'\": 330,\n",
       " \"'boy'\": 331,\n",
       " \"'tryna'\": 332,\n",
       " \"'seen'\": 333,\n",
       " \"'every'\": 334,\n",
       " \"'ban'\": 335,\n",
       " \"'started'\": 336,\n",
       " \"'able'\": 337,\n",
       " \"i'\": 338,\n",
       " \"'anything'\": 339,\n",
       " \"'looks'\": 340,\n",
       " \"'tried'\": 341,\n",
       " \"'public'\": 342,\n",
       " \"'drop'\": 343,\n",
       " \"'turn'\": 344,\n",
       " \"'orange'\": 345,\n",
       " \"'wont'\": 346,\n",
       " \"'hi'\": 347,\n",
       " \"'hear'\": 348,\n",
       " \"'de'\": 349,\n",
       " \"'ppl'\": 350,\n",
       " \"'place'\": 351,\n",
       " \"'exactly'\": 352,\n",
       " \"'amazing'\": 353,\n",
       " \"'open'\": 354,\n",
       " \"'calls'\": 355,\n",
       " \"'state'\": 356,\n",
       " \"'graham'\": 357,\n",
       " \"'pm'\": 358,\n",
       " \"'single'\": 359,\n",
       " \"'heart'\": 360,\n",
       " \"'fucked'\": 361,\n",
       " \"'eat'\": 362,\n",
       " \"'rights'\": 363,\n",
       " \"'i'll'\": 364,\n",
       " \"'understand'\": 365,\n",
       " \"'jon'\": 366,\n",
       " \"'past'\": 367,\n",
       " \"'names'\": 368,\n",
       " \"'beat'\": 369,\n",
       " \"'kill'\": 370,\n",
       " \"'you'll'\": 371,\n",
       " \"'weak'\": 372,\n",
       " \"'care'\": 373,\n",
       " \"'age'\": 374,\n",
       " \"'dems'\": 375,\n",
       " \"'either'\": 376,\n",
       " \"'bc'\": 377,\n",
       " \"'bitches'\": 378,\n",
       " \"'miss'\": 379,\n",
       " \"'case'\": 380,\n",
       " \"'messi'\": 381,\n",
       " \"'water'\": 382,\n",
       " \"'dog'\": 383,\n",
       " \"'cannot'\": 384,\n",
       " \"'first'\": 385,\n",
       " \"'weekend'\": 386,\n",
       " \"'gay'\": 387,\n",
       " \"'couldn't'\": 388,\n",
       " \"'15'\": 389,\n",
       " \"'yes'\": 390,\n",
       " \"'lindsey'\": 391,\n",
       " \"'used'\": 392,\n",
       " \"'update'\": 393,\n",
       " \"'food'\": 394,\n",
       " \"'followers'\": 395,\n",
       " \"'tickets'\": 396,\n",
       " \"'half'\": 397,\n",
       " \"'illegal'\": 398,\n",
       " \"'least'\": 399,\n",
       " \"'fans'\": 400,\n",
       " \"'congress'\": 401,\n",
       " \"'months'\": 402,\n",
       " \"'youve'\": 403,\n",
       " \"'telling'\": 404,\n",
       " \"'wants'\": 405,\n",
       " \"'tomorrow'\": 406,\n",
       " \"'ones'\": 407,\n",
       " \"'hour'\": 408,\n",
       " \"'enough'\": 409,\n",
       " \"'modi'\": 410,\n",
       " \"'chicken'\": 411,\n",
       " \"'government'\": 412,\n",
       " \"'11'\": 413,\n",
       " \"'x'\": 414,\n",
       " \"'remember'\": 415,\n",
       " \"'p'\": 416,\n",
       " \"'g'\": 417,\n",
       " \"'states'\": 418,\n",
       " \"'who's'\": 419,\n",
       " \"'info'\": 420,\n",
       " \"'gameofthrones'\": 421,\n",
       " \"'funny'\": 422,\n",
       " \"'couldnt'\": 423,\n",
       " \"'10'\": 424,\n",
       " \"'else'\": 425,\n",
       " \"'small'\": 426,\n",
       " \"'proud'\": 427,\n",
       " \"'happen'\": 428,\n",
       " \"'wrong'\": 429,\n",
       " \"'room'\": 430,\n",
       " \"'course'\": 431,\n",
       " \"'welcome'\": 432,\n",
       " \"'working'\": 433,\n",
       " \"'pussy'\": 434,\n",
       " \"'sure'\": 435,\n",
       " \"'eyes'\": 436,\n",
       " \"'artist'\": 437,\n",
       " \"'bet'\": 438,\n",
       " \"'reminder'\": 439,\n",
       " \"'sold'\": 440,\n",
       " \"'movie'\": 441,\n",
       " \"'blood'\": 442,\n",
       " \"'far'\": 443,\n",
       " \"'play'\": 444,\n",
       " \"'change'\": 445,\n",
       " \"'12'\": 446,\n",
       " \"'new'\": 447,\n",
       " \"'fool'\": 448,\n",
       " \"'tbh'\": 449,\n",
       " \"'dead'\": 450,\n",
       " \"'wrote'\": 451,\n",
       " \"'bag'\": 452,\n",
       " \"'shame'\": 453,\n",
       " \"'cuz'\": 454,\n",
       " \"'sit'\": 455,\n",
       " \"'end'\": 456,\n",
       " \"'minutes'\": 457,\n",
       " \"'la'\": 458,\n",
       " \"'point'\": 459,\n",
       " \"'watching'\": 460,\n",
       " \"'reading'\": 461,\n",
       " \"'finale'\": 462,\n",
       " \"'o'\": 463,\n",
       " \"'honestly'\": 464,\n",
       " \"'eating'\": 465,\n",
       " \"'simple'\": 466,\n",
       " \"'guys'\": 467,\n",
       " \"'already'\": 468,\n",
       " \"'mood'\": 469,\n",
       " \"'wanted'\": 470,\n",
       " \"'joke'\": 471,\n",
       " \"'forget'\": 472,\n",
       " \"'jimin'\": 473,\n",
       " \"'part'\": 474,\n",
       " \"'soon'\": 475,\n",
       " \"'fake'\": 476,\n",
       " \"'number'\": 477,\n",
       " \"'bruh'\": 478,\n",
       " \"'isn't'\": 479,\n",
       " \"'giving'\": 480,\n",
       " \"'using'\": 481,\n",
       " \"'top'\": 482,\n",
       " \"'truth'\": 483,\n",
       " \"'girl'\": 484,\n",
       " \"'respect'\": 485,\n",
       " \"'gameofthronesfinale'\": 486,\n",
       " \"'buy'\": 487,\n",
       " \"'sexy'\": 488,\n",
       " \"'believe'\": 489,\n",
       " \"'forgot'\": 490,\n",
       " \"'entire'\": 491,\n",
       " \"'text'\": 492,\n",
       " \"'works'\": 493,\n",
       " \"'bed'\": 494,\n",
       " \"'wonder'\": 495,\n",
       " \"'golden'\": 496,\n",
       " \"'retweet'\": 497,\n",
       " \"'ending'\": 498,\n",
       " \"'waiting'\": 499,\n",
       " \"'gop'\": 500,\n",
       " \"'class'\": 501,\n",
       " \"'running'\": 502,\n",
       " \"'youll'\": 503,\n",
       " \"'ko'\": 504,\n",
       " \"'bran'\": 505,\n",
       " \"'tour'\": 506,\n",
       " \"'dreams'\": 507,\n",
       " \"'muslims'\": 508,\n",
       " \"'together'\": 509,\n",
       " \"'party'\": 510,\n",
       " \"'learn'\": 511,\n",
       " \"'sister'\": 512,\n",
       " \"'l'\": 513,\n",
       " \"'rape'\": 514,\n",
       " \"'id'\": 515,\n",
       " \"'allowed'\": 516,\n",
       " \"'kid'\": 517,\n",
       " \"'high'\": 518,\n",
       " \"'club'\": 519,\n",
       " \"'didnt'\": 520,\n",
       " \"'planet'\": 521,\n",
       " \"'wife'\": 522,\n",
       " \"'black'\": 523,\n",
       " \"'steve'\": 524,\n",
       " \"'came'\": 525,\n",
       " \"'simply'\": 526,\n",
       " \"'seems'\": 527,\n",
       " \"'acting'\": 528,\n",
       " \"'last'\": 529,\n",
       " \"'theyll'\": 530,\n",
       " \"'terrorist'\": 531,\n",
       " \"'taken'\": 532,\n",
       " \"'absolutely'\": 533,\n",
       " \"'sending'\": 534,\n",
       " \"'haha'\": 535,\n",
       " \"'upset'\": 536,\n",
       " \"'sometimes'\": 537,\n",
       " \"'boyfriend'\": 538,\n",
       " \"'ugly'\": 539,\n",
       " \"'home'\": 540,\n",
       " \"'crazy'\": 541,\n",
       " \"'e'\": 542,\n",
       " \"'united'\": 543,\n",
       " \"'billion'\": 544,\n",
       " \"'unless'\": 545,\n",
       " \"'jail'\": 546,\n",
       " \"'walk'\": 547,\n",
       " \"'super'\": 548,\n",
       " \"'cool'\": 549,\n",
       " \"'twitter'\": 550,\n",
       " \"'gave'\": 551,\n",
       " \"'knew'\": 552,\n",
       " \"'news'\": 553,\n",
       " \"'pay'\": 554,\n",
       " \"'move'\": 555,\n",
       " \"'d'\": 556,\n",
       " \"'along'\": 557,\n",
       " \"'what's'\": 558,\n",
       " \"'won't'\": 559,\n",
       " \"'awesome'\": 560,\n",
       " \"'sir'\": 561,\n",
       " \"'rep'\": 562,\n",
       " \"'american'\": 563,\n",
       " \"'peace'\": 564,\n",
       " \"'without'\": 565,\n",
       " \"'doesnt'\": 566,\n",
       " \"'kiss'\": 567,\n",
       " \"'thehill'\": 568,\n",
       " \"'birth'\": 569,\n",
       " \"'idk'\": 570,\n",
       " \"'em'\": 571,\n",
       " \"'biggest'\": 572,\n",
       " \"'feels'\": 573,\n",
       " \"'dude'\": 574,\n",
       " \"'pregnant'\": 575,\n",
       " \"'run'\": 576,\n",
       " \"'felt'\": 577,\n",
       " \"'knowing'\": 578,\n",
       " \"'song'\": 579,\n",
       " \"'night'\": 580,\n",
       " \"'you've'\": 581,\n",
       " \"'moron'\": 582,\n",
       " \"'lock'\": 583,\n",
       " \"'6'\": 584,\n",
       " \"'chance'\": 585,\n",
       " \"'series'\": 586,\n",
       " \"'criminal'\": 587,\n",
       " \"'saved'\": 588,\n",
       " \"'truly'\": 589,\n",
       " \"'an'\": 590,\n",
       " \"'disgusting'\": 591,\n",
       " \"'matter'\": 592,\n",
       " \"'smoke'\": 593,\n",
       " \"'children'\": 594,\n",
       " \"'minute'\": 595,\n",
       " \"'tati'\": 596,\n",
       " \"'cersei'\": 597,\n",
       " \"'complete'\": 598,\n",
       " \"'support'\": 599,\n",
       " \"'kinda'\": 600,\n",
       " \"'brain'\": 601,\n",
       " \"'jesus'\": 602,\n",
       " \"'wish'\": 603,\n",
       " \"'chris'\": 604,\n",
       " \"'bottom'\": 605,\n",
       " \"'short'\": 606,\n",
       " \"'king'\": 607,\n",
       " \"'tho'\": 608,\n",
       " \"'bring'\": 609,\n",
       " \"'bullshit'\": 610,\n",
       " \"'ignorant'\": 611,\n",
       " \"'bout'\": 612,\n",
       " \"'feeling'\": 613,\n",
       " \"'double'\": 614,\n",
       " \"'straight'\": 615,\n",
       " \"'boys'\": 616,\n",
       " \"'happy'\": 617,\n",
       " \"'theres'\": 618,\n",
       " \"'7'\": 619,\n",
       " \"'worse'\": 620,\n",
       " \"'try'\": 621,\n",
       " \"'goal'\": 622,\n",
       " \"'english'\": 623,\n",
       " \"'media'\": 624,\n",
       " \"'sucks'\": 625,\n",
       " \"'trumps'\": 626,\n",
       " \"'mentally'\": 627,\n",
       " \"'touch'\": 628,\n",
       " \"'asking'\": 629,\n",
       " \"'drink'\": 630,\n",
       " \"'i'd'\": 631,\n",
       " \"'mf'\": 632,\n",
       " \"'outside'\": 633,\n",
       " \"'democrats'\": 634,\n",
       " \"'traitor'\": 635,\n",
       " \"'husband'\": 636,\n",
       " \"'totally'\": 637,\n",
       " \"'facts'\": 638,\n",
       " \"'annoying'\": 639,\n",
       " \"'c'\": 640,\n",
       " \"'lose'\": 641,\n",
       " \"'listen'\": 642,\n",
       " \"'road'\": 643,\n",
       " \"'reason'\": 644,\n",
       " \"'ask'\": 645,\n",
       " \"'trust'\": 646,\n",
       " \"'bbmas'\": 647,\n",
       " \"'twerking'\": 648,\n",
       " \"'kicked'\": 649,\n",
       " \"'httpst'\": 650,\n",
       " \"'becomes'\": 651,\n",
       " \"'queen'\": 652,\n",
       " \"'whatever'\": 653,\n",
       " \"'caught'\": 654,\n",
       " \"'pathetic'\": 655,\n",
       " \"'fuckin'\": 656,\n",
       " \"'thanks'\": 657,\n",
       " \"'bull'\": 658,\n",
       " \"'sweet'\": 659,\n",
       " \"'british'\": 660,\n",
       " \"'fun'\": 661,\n",
       " \"'early'\": 662,\n",
       " \"'position'\": 663,\n",
       " \"'holiday'\": 664,\n",
       " \"'sign'\": 665,\n",
       " \"'till'\": 666,\n",
       " \"'dangerous'\": 667,\n",
       " \"'smile'\": 668,\n",
       " \"'be'\": 669,\n",
       " \"you're'\": 670,\n",
       " \"'knows'\": 671,\n",
       " \"'showing'\": 672,\n",
       " \"'dear'\": 673,\n",
       " \"'though'\": 674,\n",
       " \"'opportunity'\": 675,\n",
       " \"'this'\": 676,\n",
       " \"'test'\": 677,\n",
       " \"'taking'\": 678,\n",
       " \"'paul'\": 679,\n",
       " \"'period'\": 680,\n",
       " \"'due'\": 681,\n",
       " \"'wall'\": 682,\n",
       " \"'putting'\": 683,\n",
       " \"'born'\": 684,\n",
       " \"'mins'\": 685,\n",
       " \"'throwing'\": 686,\n",
       " \"'yesterday'\": 687,\n",
       " \"'plan'\": 688,\n",
       " \"'rich'\": 689,\n",
       " \"'three'\": 690,\n",
       " \"'international'\": 691,\n",
       " \"'comey'\": 692,\n",
       " \"'bigger'\": 693,\n",
       " \"'john'\": 694,\n",
       " \"'loser'\": 695,\n",
       " \"'smh'\": 696,\n",
       " \"'weird'\": 697,\n",
       " \"'boring'\": 698,\n",
       " \"'co'\": 699,\n",
       " \"'funder'\": 700,\n",
       " \"'goes'\": 701,\n",
       " \"'south'\": 702,\n",
       " \"'cheated'\": 703,\n",
       " \"'second'\": 704,\n",
       " \"'makes'\": 705,\n",
       " \"'apparently'\": 706,\n",
       " \"'definitely'\": 707,\n",
       " \"'finna'\": 708,\n",
       " \"'yoongi'\": 709,\n",
       " \"'happened'\": 710,\n",
       " \"'mind'\": 711,\n",
       " \"'changed'\": 712,\n",
       " \"'cock'\": 713,\n",
       " \"'dany'\": 714,\n",
       " \"'manager'\": 715,\n",
       " \"'win'\": 716,\n",
       " \"'stress'\": 717,\n",
       " \"'immediately'\": 718,\n",
       " \"'utter'\": 719,\n",
       " \"'turned'\": 720,\n",
       " \"'aint'\": 721,\n",
       " \"'heres'\": 722,\n",
       " \"'duck'\": 723,\n",
       " \"'weve'\": 724,\n",
       " \"'remain'\": 725,\n",
       " \"'swear'\": 726,\n",
       " \"'drive'\": 727,\n",
       " \"'yup'\": 728,\n",
       " \"'lovely'\": 729,\n",
       " \"'power'\": 730,\n",
       " \"'round'\": 731,\n",
       " \"'you'd'\": 732,\n",
       " \"'jungkook'\": 733,\n",
       " \"'wit'\": 734,\n",
       " \"'side'\": 735,\n",
       " \"'gorgeous'\": 736,\n",
       " \"'breaking'\": 737,\n",
       " \"'earth'\": 738,\n",
       " \"'republicans'\": 739,\n",
       " \"'met'\": 740,\n",
       " \"'reply'\": 741,\n",
       " \"'arya'\": 742,\n",
       " \"'cat'\": 743,\n",
       " \"'pic'\": 744,\n",
       " \"'shot'\": 745,\n",
       " \"'shooter'\": 746,\n",
       " \"'enjoy'\": 747,\n",
       " \"'stuff'\": 748,\n",
       " \"'jack'\": 749,\n",
       " \"'light'\": 750,\n",
       " \"'leave'\": 751,\n",
       " \"'rawstory'\": 752,\n",
       " \"'meanwhile'\": 753,\n",
       " \"'history'\": 754,\n",
       " \"'player'\": 755,\n",
       " \"'actual'\": 756,\n",
       " \"'keeps'\": 757,\n",
       " \"'selling'\": 758,\n",
       " \"'thrown'\": 759,\n",
       " \"'dance'\": 760,\n",
       " \"'hole'\": 761,\n",
       " \"'americans'\": 762,\n",
       " \"'planning'\": 763,\n",
       " \"'certain'\": 764,\n",
       " \"'store'\": 765,\n",
       " \"'muslim'\": 766,\n",
       " \"'lets'\": 767,\n",
       " \"'25'\": 768,\n",
       " \"'hoseok'\": 769,\n",
       " \"'stand'\": 770,\n",
       " \"'whoever'\": 771,\n",
       " \"'gas'\": 772,\n",
       " \"'died'\": 773,\n",
       " \"'industry'\": 774,\n",
       " \"'wouldnt'\": 775,\n",
       " \"'lindseygrahamsc'\": 776,\n",
       " \"'paid'\": 777,\n",
       " \"'supporters'\": 778,\n",
       " \"'tv'\": 779,\n",
       " \"'art'\": 780,\n",
       " \"'beyonce'\": 781,\n",
       " \"'idc'\": 782,\n",
       " \"'2014'\": 783,\n",
       " \"'empty'\": 784,\n",
       " \"'attention'\": 785,\n",
       " \"'2016'\": 786,\n",
       " \"'da'\": 787,\n",
       " \"'extra'\": 788,\n",
       " \"'deserves'\": 789,\n",
       " \"'amount'\": 790,\n",
       " \"'group'\": 791,\n",
       " \"'passed'\": 792,\n",
       " \"'smart'\": 793,\n",
       " \"'playing'\": 794,\n",
       " \"'happens'\": 795,\n",
       " \"don't'\": 796,\n",
       " \"'cancel'\": 797,\n",
       " \"'energy'\": 798,\n",
       " \"'aren't'\": 799,\n",
       " \"'red'\": 800,\n",
       " \"'armys'\": 801,\n",
       " \"'now'\": 802,\n",
       " \"'strong'\": 803,\n",
       " \"'cnn'\": 804,\n",
       " \"'pray'\": 805,\n",
       " \"'asshole'\": 806,\n",
       " \"'m'\": 807,\n",
       " \"'living'\": 808,\n",
       " \"'9'\": 809,\n",
       " \"'force'\": 810,\n",
       " \"'iam'\": 811,\n",
       " \"'ima'\": 812,\n",
       " \"'confused'\": 813,\n",
       " \"'asf'\": 814,\n",
       " \"'word'\": 815,\n",
       " \"'christ'\": 816,\n",
       " \"'lit'\": 817,\n",
       " \"'must'\": 818,\n",
       " \"'quit'\": 819,\n",
       " \"'kidding'\": 820,\n",
       " \"'beyond'\": 821,\n",
       " \"'so'\": 822,\n",
       " \"'join'\": 823,\n",
       " \"'forgive'\": 824,\n",
       " \"'loki'\": 825,\n",
       " \"'forever'\": 826,\n",
       " \"'shoot'\": 827,\n",
       " \"'re'\": 828,\n",
       " \"'puts'\": 829,\n",
       " \"'clean'\": 830,\n",
       " \"'listening'\": 831,\n",
       " \"'paper'\": 832,\n",
       " \"'woman'\": 833,\n",
       " \"'global'\": 834,\n",
       " \"'congrats'\": 835,\n",
       " \"'angry'\": 836,\n",
       " \"'true'\": 837,\n",
       " \"'ajax'\": 838,\n",
       " \"'snapchat'\": 839,\n",
       " \"'election'\": 840,\n",
       " \"'pe'\": 841,\n",
       " \"'blow'\": 842,\n",
       " \"'send'\": 843,\n",
       " \"'personal'\": 844,\n",
       " \"'wear'\": 845,\n",
       " \"'vile'\": 846,\n",
       " \"'idiots'\": 847,\n",
       " \"'k'\": 848,\n",
       " \"'me'\": 849,\n",
       " \"'slut'\": 850,\n",
       " \"'quite'\": 851,\n",
       " \"'picture'\": 852,\n",
       " \"'is'\": 853,\n",
       " \"'read'\": 854,\n",
       " \"'scared'\": 855,\n",
       " \"'hit'\": 856,\n",
       " \"'hold'\": 857,\n",
       " \"'lie'\": 858,\n",
       " \"'wage'\": 859,\n",
       " \"'stomach'\": 860,\n",
       " \"'insane'\": 861,\n",
       " \"'imagine'\": 862,\n",
       " \"'nah'\": 863,\n",
       " \"'worth'\": 864,\n",
       " \"'space'\": 865,\n",
       " \"'treasures'\": 866,\n",
       " \"'virgo'\": 867,\n",
       " \"'bread'\": 868,\n",
       " \"'17'\": 869,\n",
       " \"'maybe'\": 870,\n",
       " \"'tony'\": 871,\n",
       " \"'basically'\": 872,\n",
       " \"'council'\": 873,\n",
       " \"'dream'\": 874,\n",
       " \"'dying'\": 875,\n",
       " \"'former'\": 876,\n",
       " \"'letter'\": 877,\n",
       " \"'brother'\": 878,\n",
       " \"'dirty'\": 879,\n",
       " \"'consent'\": 880,\n",
       " \"'deserve'\": 881,\n",
       " \"'con'\": 882,\n",
       " \"'marvel'\": 883,\n",
       " \"'nasty'\": 884,\n",
       " \"'poor'\": 885,\n",
       " \"'here's'\": 886,\n",
       " \"'random'\": 887,\n",
       " \"'level'\": 888,\n",
       " \"'attorney'\": 889,\n",
       " \"'jin'\": 890,\n",
       " \"'following'\": 891,\n",
       " \"'weed'\": 892,\n",
       " \"'fortnite'\": 893,\n",
       " \"'ashamed'\": 894,\n",
       " \"'doubt'\": 895,\n",
       " \"'car'\": 896,\n",
       " \"'gives'\": 897,\n",
       " \"'nudes'\": 898,\n",
       " \"'dumbass'\": 899,\n",
       " \"'present'\": 900,\n",
       " \"'check'\": 901,\n",
       " \"'skills'\": 902,\n",
       " \"'honor'\": 903,\n",
       " \"'guilty'\": 904,\n",
       " \"'obama'\": 905,\n",
       " \"'leaving'\": 906,\n",
       " \"'private'\": 907,\n",
       " \"'http'\": 908,\n",
       " \"'canada'\": 909,\n",
       " \"'record'\": 910,\n",
       " \"'thread'\": 911,\n",
       " \"'to'\": 912,\n",
       " \"'write'\": 913,\n",
       " \"'thinks'\": 914,\n",
       " \"'sexual'\": 915,\n",
       " \"'the'\": 916,\n",
       " \"'that'\": 917,\n",
       " \"'six'\": 918,\n",
       " \"'behind'\": 919,\n",
       " \"'story'\": 920,\n",
       " \"'taylor'\": 921,\n",
       " \"'worked'\": 922,\n",
       " \"'steph'\": 923,\n",
       " \"'ring'\": 924,\n",
       " \"'wait'\": 925,\n",
       " \"'middle'\": 926,\n",
       " \"'friday'\": 927,\n",
       " \"'milk'\": 928,\n",
       " \"'carpet'\": 929,\n",
       " \"'tall'\": 930,\n",
       " \"'sis'\": 931,\n",
       " \"'blind'\": 932,\n",
       " \"'joe'\": 933,\n",
       " \"'dinner'\": 934,\n",
       " \"'chest'\": 935,\n",
       " \"'realize'\": 936,\n",
       " \"'charliekirk11'\": 937,\n",
       " \"'shitty'\": 938,\n",
       " \"'videos'\": 939,\n",
       " \"'scene'\": 940,\n",
       " \"'ht'\": 941,\n",
       " \"'happening'\": 942,\n",
       " \"'ig'\": 943,\n",
       " \"'raise'\": 944,\n",
       " \"'front'\": 945,\n",
       " \"'hair'\": 946,\n",
       " \"'parents'\": 947,\n",
       " \"'siblings'\": 948,\n",
       " \"'fly'\": 949,\n",
       " \"'mine'\": 950,\n",
       " \"'favorite'\": 951,\n",
       " \"i'm'\": 952,\n",
       " \"'laughing'\": 953,\n",
       " \"'career'\": 954,\n",
       " \"'rid'\": 955,\n",
       " \"'gays'\": 956,\n",
       " \"'gotfinale'\": 957,\n",
       " \"'clearly'\": 958,\n",
       " \"'bird'\": 959,\n",
       " \"'daughter'\": 960,\n",
       " \"'board'\": 961,\n",
       " \"'trouble'\": 962,\n",
       " \"'towards'\": 963,\n",
       " \"'jake'\": 964,\n",
       " \"'cody'\": 965,\n",
       " \"'whether'\": 966,\n",
       " \"'shop'\": 967,\n",
       " \"'heard'\": 968,\n",
       " \"'sale'\": 969,\n",
       " \"'tory'\": 970,\n",
       " \"'mama'\": 971,\n",
       " \"'beautiful'\": 972,\n",
       " \"'ground'\": 973,\n",
       " \"'girlfriend'\": 974,\n",
       " \"'wild'\": 975,\n",
       " \"'west'\": 976,\n",
       " \"'phone'\": 977,\n",
       " \"'goin'\": 978,\n",
       " \"'candidate'\": 979,\n",
       " \"'raped'\": 980,\n",
       " \"'natural'\": 981,\n",
       " \"'lips'\": 982,\n",
       " \"'sing'\": 983,\n",
       " \"'played'\": 984,\n",
       " \"'understood'\": 985,\n",
       " \"'asap'\": 986,\n",
       " \"'alot'\": 987,\n",
       " \"'effect'\": 988,\n",
       " \"'profile'\": 989,\n",
       " \"'pizza'\": 990,\n",
       " \"'research'\": 991,\n",
       " \"'fraud'\": 992,\n",
       " \"'pretending'\": 993,\n",
       " \"'fighting'\": 994,\n",
       " \"'dating'\": 995,\n",
       " \"'kills'\": 996,\n",
       " \"'hearts'\": 997,\n",
       " \"'talkin'\": 998,\n",
       " \"'kick'\": 999,\n",
       " \"'season'\": 1000,\n",
       " ...}"
      ]
     },
     "execution_count": 19,
     "metadata": {},
     "output_type": "execute_result"
    }
   ],
   "source": [
    "# Get the word_index \n",
    "word_index = tokenizer.word_index\n",
    "word_index"
   ]
  },
  {
   "cell_type": "code",
   "execution_count": 20,
   "metadata": {},
   "outputs": [
    {
     "name": "stdout",
     "output_type": "stream",
     "text": [
      "There are 10950 unique tokens in training data. \n"
     ]
    }
   ],
   "source": [
    "# check how many words \n",
    "tot_words = len(word_index)\n",
    "print('There are %s unique tokens in training data. ' % tot_words)"
   ]
  },
  {
   "cell_type": "code",
   "execution_count": 21,
   "metadata": {},
   "outputs": [],
   "source": [
    "from tensorflow.keras.utils import pad_sequences\n",
    "\n",
    "# Sequencing and padding on training and testing \n",
    "training_sequences = tokenizer.texts_to_sequences(train_msg)\n",
    "training_padded = pad_sequences (training_sequences, maxlen = max_len, padding = 'post')\n",
    "\n",
    "testing_sequences = tokenizer.texts_to_sequences(test_msg)\n",
    "testing_padded = pad_sequences(testing_sequences, maxlen = max_len,padding = 'post')"
   ]
  },
  {
   "cell_type": "code",
   "execution_count": 22,
   "metadata": {},
   "outputs": [
    {
     "name": "stdout",
     "output_type": "stream",
     "text": [
      "Shape of training tensor:  (3035, 34)\n",
      "Shape of testing tensor:  (759, 34)\n"
     ]
    }
   ],
   "source": [
    "# Shape of train tensor\n",
    "print('Shape of training tensor: ', training_padded.shape)\n",
    "print('Shape of testing tensor: ', testing_padded.shape)"
   ]
  },
  {
   "cell_type": "code",
   "execution_count": 23,
   "metadata": {},
   "outputs": [
    {
     "data": {
      "text/plain": [
       "(5, 4)"
      ]
     },
     "execution_count": 23,
     "metadata": {},
     "output_type": "execute_result"
    }
   ],
   "source": [
    "# Before padding\n",
    "len(training_sequences[0]), len(training_sequences[1])"
   ]
  },
  {
   "cell_type": "code",
   "execution_count": 24,
   "metadata": {},
   "outputs": [
    {
     "data": {
      "text/plain": [
       "(34, 34)"
      ]
     },
     "execution_count": 24,
     "metadata": {},
     "output_type": "execute_result"
    }
   ],
   "source": [
    "# After padding\n",
    "len(training_padded[0]), len(training_padded[1])"
   ]
  },
  {
   "cell_type": "code",
   "execution_count": 25,
   "metadata": {},
   "outputs": [
    {
     "name": "stdout",
     "output_type": "stream",
     "text": [
      "[ 14 209  70   7  10   0   0   0   0   0   0   0   0   0   0   0   0   0\n",
      "   0   0   0   0   0   0   0   0   0   0   0   0   0   0   0   0]\n"
     ]
    }
   ],
   "source": [
    "print(training_padded[0])"
   ]
  },
  {
   "cell_type": "code",
   "execution_count": 26,
   "metadata": {},
   "outputs": [],
   "source": [
    "\n",
    "vocab_size = 8296  # As defined earlier\n",
    "embeding_dim = 16\n",
    "drop_value = 0.2 # dropout\n",
    "n_dense = 24"
   ]
  },
  {
   "cell_type": "code",
   "execution_count": 27,
   "metadata": {},
   "outputs": [
    {
     "name": "stderr",
     "output_type": "stream",
     "text": [
      "2023-05-31 22:35:57.526271: I tensorflow/compiler/xla/stream_executor/cuda/cuda_gpu_executor.cc:996] successful NUMA node read from SysFS had negative value (-1), but there must be at least one NUMA node, so returning NUMA node zero. See more at https://github.com/torvalds/linux/blob/v6.0/Documentation/ABI/testing/sysfs-bus-pci#L344-L355\n",
      "2023-05-31 22:35:57.526858: W tensorflow/core/common_runtime/gpu/gpu_device.cc:1956] Cannot dlopen some GPU libraries. Please make sure the missing libraries mentioned above are installed properly if you would like to use GPU. Follow the guide at https://www.tensorflow.org/install/gpu for how to download and setup the required libraries for your platform.\n",
      "Skipping registering GPU devices...\n"
     ]
    }
   ],
   "source": [
    "#Dense model architecture\n",
    "from keras.models import Sequential\n",
    "from keras.layers import Dense, Dropout, Embedding, GlobalAveragePooling1D, Conv1D, MaxPooling1D, Activation,Flatten\n",
    "\n",
    "model = Sequential()\n",
    "model.add(Embedding(vocab_size, embeding_dim, input_length=max_len))\n",
    "model.add(Conv1D(filters=32, kernel_size=8, activation='relu'))\n",
    "model.add(MaxPooling1D(pool_size=2))\n",
    "model.add(Flatten())\n",
    "model.add(Dense(24, activation='relu'))\n",
    "model.add(Dropout(drop_value))\n",
    "model.add(Dense(1, activation='sigmoid'))"
   ]
  },
  {
   "cell_type": "code",
   "execution_count": 28,
   "metadata": {},
   "outputs": [],
   "source": [
    "model.compile(loss='binary_crossentropy',optimizer='adam' ,metrics=['accuracy'])"
   ]
  },
  {
   "cell_type": "code",
   "execution_count": 29,
   "metadata": {},
   "outputs": [
    {
     "name": "stdout",
     "output_type": "stream",
     "text": [
      "Epoch 1/30\n",
      "95/95 - 1s - loss: 0.6744 - accuracy: 0.6010 - val_loss: 0.5976 - val_accuracy: 0.7563 - 993ms/epoch - 10ms/step\n",
      "Epoch 2/30\n",
      "95/95 - 0s - loss: 0.4206 - accuracy: 0.8287 - val_loss: 0.4206 - val_accuracy: 0.7945 - 266ms/epoch - 3ms/step\n",
      "Epoch 3/30\n",
      "95/95 - 0s - loss: 0.3158 - accuracy: 0.8774 - val_loss: 0.3712 - val_accuracy: 0.8564 - 278ms/epoch - 3ms/step\n",
      "Epoch 4/30\n",
      "95/95 - 0s - loss: 0.2809 - accuracy: 0.8975 - val_loss: 0.3778 - val_accuracy: 0.8498 - 275ms/epoch - 3ms/step\n",
      "Epoch 5/30\n",
      "95/95 - 0s - loss: 0.2567 - accuracy: 0.9068 - val_loss: 0.4029 - val_accuracy: 0.8327 - 288ms/epoch - 3ms/step\n",
      "Epoch 6/30\n",
      "95/95 - 0s - loss: 0.2415 - accuracy: 0.9176 - val_loss: 0.4024 - val_accuracy: 0.8314 - 269ms/epoch - 3ms/step\n"
     ]
    }
   ],
   "source": [
    "# fitting a dense spam detector model\n",
    "from keras.callbacks import EarlyStopping\n",
    "\n",
    "num_epochs = 30\n",
    "early_stop = EarlyStopping(monitor='val_loss', patience=3)\n",
    "history = model.fit(training_padded, train_labels, epochs=num_epochs, validation_data=(testing_padded, test_labels),callbacks =[early_stop], verbose=2)"
   ]
  },
  {
   "cell_type": "code",
   "execution_count": 30,
   "metadata": {},
   "outputs": [],
   "source": [
    "model.save(\"model1.h5\")"
   ]
  },
  {
   "cell_type": "code",
   "execution_count": 31,
   "metadata": {},
   "outputs": [
    {
     "name": "stdout",
     "output_type": "stream",
     "text": [
      "24/24 [==============================] - 0s 2ms/step - loss: 0.4024 - accuracy: 0.8314\n"
     ]
    },
    {
     "data": {
      "text/plain": [
       "[0.40238818526268005, 0.8313570618629456]"
      ]
     },
     "execution_count": 31,
     "metadata": {},
     "output_type": "execute_result"
    }
   ],
   "source": [
    "# Model performance on test data \n",
    "model.evaluate(testing_padded, test_labels)"
   ]
  },
  {
   "cell_type": "code",
   "execution_count": 32,
   "metadata": {},
   "outputs": [],
   "source": [
    "# Read as a dataframe \n",
    "import matplotlib.pyplot as plt\n",
    "metrics = pd.DataFrame(history.history)\n",
    "# Rename column\n",
    "metrics.rename(columns = {'loss': 'Training_Loss', 'accuracy': 'Training_Accuracy', 'val_loss': 'Validation_Loss', 'val_accuracy': 'Validation_Accuracy'}, inplace = True)\n",
    "def plot_graphs1(var1, var2, string):\n",
    "    metrics[[var1, var2]].plot()\n",
    "    plt.title('Training and Validation ' + string)\n",
    "    plt.xlabel ('Number of epochs')\n",
    "    plt.ylabel(string)\n",
    "    plt.legend([var1, var2])"
   ]
  },
  {
   "cell_type": "code",
   "execution_count": 33,
   "metadata": {},
   "outputs": [
    {
     "data": {
      "image/png": "[encoded data removed]",
      "text/plain": [
       "<Figure size 640x480 with 1 Axes>"
      ]
     },
     "metadata": {},
     "output_type": "display_data"
    }
   ],
   "source": [
    "plot_graphs1('Training_Loss', 'Validation_Loss', 'loss')"
   ]
  },
  {
   "cell_type": "code",
   "execution_count": 34,
   "metadata": {},
   "outputs": [
    {
     "data": {
      "image/png": "[encoded data removed]",
      "text/plain": [
       "<Figure size 640x480 with 1 Axes>"
      ]
     },
     "metadata": {},
     "output_type": "display_data"
    }
   ],
   "source": [
    "plot_graphs1('Training_Accuracy', 'Validation_Accuracy', 'accuracy')"
   ]
  },
  {
   "cell_type": "code",
   "execution_count": 35,
   "metadata": {},
   "outputs": [
    {
     "name": "stdout",
     "output_type": "stream",
     "text": [
      "24/24 [==============================] - 0s 1ms/step\n"
     ]
    }
   ],
   "source": [
    "temp = model.predict(testing_padded)\n",
    "prediction = []\n",
    "for predict in temp:\n",
    "    if predict < 0.5:\n",
    "        prediction.append(0)\n",
    "    else:\n",
    "        prediction.append(1)"
   ]
  },
  {
   "cell_type": "code",
   "execution_count": 36,
   "metadata": {},
   "outputs": [
    {
     "data": {
      "text/plain": [
       "array([[317,  57],\n",
       "       [ 71, 314]])"
      ]
     },
     "execution_count": 36,
     "metadata": {},
     "output_type": "execute_result"
    }
   ],
   "source": [
    "from sklearn.metrics import confusion_matrix\n",
    "\n",
    "cm = confusion_matrix(prediction, test_labels)\n",
    "cm"
   ]
  },
  {
   "cell_type": "code",
   "execution_count": 37,
   "metadata": {},
   "outputs": [
    {
     "data": {
      "image/png": "[encoded data removed]",
      "text/plain": [
       "<Figure size 640x480 with 2 Axes>"
      ]
     },
     "metadata": {},
     "output_type": "display_data"
    }
   ],
   "source": [
    "import seaborn as sns\n",
    "\n",
    "sns.heatmap(cm, annot=True, fmt=\"d\")\n",
    "plt.show()"
   ]
  },
  {
   "cell_type": "code",
   "execution_count": 38,
   "metadata": {},
   "outputs": [
    {
     "data": {
      "text/plain": [
       "array([ 83,  15, 276, 262, 205,   0,   0,   0,   0,   0,   0,   0,   0,\n",
       "         0,   0,   0,   0,   0,   0,   0,   0,   0,   0,   0,   0,   0,\n",
       "         0,   0,   0,   0,   0,   0,   0,   0], dtype=int32)"
      ]
     },
     "execution_count": 38,
     "metadata": {},
     "output_type": "execute_result"
    }
   ],
   "source": [
    "sample = testing_padded[0]\n",
    "sample"
   ]
  },
  {
   "cell_type": "code",
   "execution_count": 39,
   "metadata": {},
   "outputs": [
    {
     "data": {
      "text/plain": [
       "(34,)"
      ]
     },
     "execution_count": 39,
     "metadata": {},
     "output_type": "execute_result"
    }
   ],
   "source": [
    "sample.shape"
   ]
  },
  {
   "cell_type": "code",
   "execution_count": 40,
   "metadata": {},
   "outputs": [
    {
     "data": {
      "text/plain": [
       "(1, 34)"
      ]
     },
     "execution_count": 40,
     "metadata": {},
     "output_type": "execute_result"
    }
   ],
   "source": [
    "import numpy as np\n",
    "sample = np.expand_dims(sample, axis=0)\n",
    "sample.shape"
   ]
  },
  {
   "cell_type": "code",
   "execution_count": 41,
   "metadata": {},
   "outputs": [
    {
     "name": "stdout",
     "output_type": "stream",
     "text": [
      "1/1 [==============================] - 0s 20ms/step\n"
     ]
    },
    {
     "data": {
      "text/plain": [
       "array([[0.9915175]], dtype=float32)"
      ]
     },
     "execution_count": 41,
     "metadata": {},
     "output_type": "execute_result"
    }
   ],
   "source": [
    "res = model.predict(sample)\n",
    "res"
   ]
  },
  {
   "cell_type": "code",
   "execution_count": 42,
   "metadata": {},
   "outputs": [
    {
     "name": "stdout",
     "output_type": "stream",
     "text": [
      "Be the life of party\n",
      "\n",
      "be the life of party\n",
      "be the life of party\n",
      "['be', 'the', 'life', 'of', 'party']\n",
      "['life', 'party']\n",
      "['life', 'party']\n"
     ]
    }
   ],
   "source": [
    "sample = \"Be the life of party\"\n",
    "\n",
    "def prepros(sample):\n",
    "    print(sample)\n",
    "    print(\"\")\n",
    "    sample = sample.lower()\n",
    "    print(sample)\n",
    "    sample = remove_punctuation(sample)\n",
    "    print(sample)\n",
    "    sample = tokenization(sample)\n",
    "    print(sample)\n",
    "    sample = remove_stopwords(sample)\n",
    "    print(sample)\n",
    "    sample = rem_em(sample)\n",
    "    print(sample)\n",
    "    return sample\n",
    "\n",
    "sample = prepros(sample)"
   ]
  },
  {
   "cell_type": "code",
   "execution_count": 43,
   "metadata": {},
   "outputs": [
    {
     "name": "stdout",
     "output_type": "stream",
     "text": [
      "[[85]]\n",
      "[[85  0  0  0  0  0  0  0  0  0  0  0  0  0  0  0  0  0  0  0  0  0  0  0\n",
      "   0  0  0  0  0  0  0  0  0  0]]\n"
     ]
    }
   ],
   "source": [
    "sample_sequences = tokenizer.texts_to_sequences([sample])\n",
    "print(sample_sequences)\n",
    "\n",
    "sample_padded = pad_sequences (sample_sequences, maxlen = max_len, padding = 'post', truncating = 'post' )\n",
    "print(sample_padded)"
   ]
  },
  {
   "cell_type": "code",
   "execution_count": 44,
   "metadata": {},
   "outputs": [
    {
     "name": "stdout",
     "output_type": "stream",
     "text": [
      "1/1 [==============================] - 0s 14ms/step\n"
     ]
    },
    {
     "data": {
      "text/plain": [
       "array([[0.55977947]], dtype=float32)"
      ]
     },
     "execution_count": 44,
     "metadata": {},
     "output_type": "execute_result"
    }
   ],
   "source": [
    "model.predict(sample_padded)"
   ]
  },
  {
   "cell_type": "code",
   "execution_count": 45,
   "metadata": {},
   "outputs": [],
   "source": [
    "sample1 = \"RT @TavianJordan: Summer '19 I'm coming for you ! No boring shit ! Beach days, road trips, kickbacks and HOT DAYS ! I'm ready I'm ready I'm…\""
   ]
  },
  {
   "cell_type": "code",
   "execution_count": 46,
   "metadata": {},
   "outputs": [
    {
     "name": "stdout",
     "output_type": "stream",
     "text": [
      "RT @TavianJordan: Summer '19 I'm coming for you ! No boring shit ! Beach days, road trips, kickbacks and HOT DAYS ! I'm ready I'm ready I'm…\n",
      "\n",
      "rt @tavianjordan: summer '19 i'm coming for you ! no boring shit ! beach days, road trips, kickbacks and hot days ! i'm ready i'm ready i'm…\n",
      "rt tavianjordan summer 19 im coming for you  no boring shit  beach days road trips kickbacks and hot days  im ready im ready im…\n",
      "['rt', 'tavianjordan', 'summer', '19', 'im', 'coming', 'for', 'you', 'no', 'boring', 'shit', 'beach', 'days', 'road', 'trips', 'kickbacks', 'and', 'hot', 'days', 'im', 'ready', 'im', 'ready', 'im…']\n",
      "['rt', 'tavianjordan', 'summer', '19', 'im', 'coming', 'boring', 'shit', 'beach', 'days', 'road', 'trips', 'kickbacks', 'hot', 'days', 'im', 'ready', 'im', 'ready', 'im…']\n",
      "['rt', 'tavianjordan', 'summer', '19', 'im', 'coming', 'boring', 'shit', 'beach', 'days', 'road', 'trips', 'kickbacks', 'hot', 'days', 'im', 'ready', 'im', 'ready', 'im']\n"
     ]
    }
   ],
   "source": [
    "sample1 = prepros(sample1)"
   ]
  },
  {
   "cell_type": "code",
   "execution_count": 47,
   "metadata": {},
   "outputs": [
    {
     "name": "stdout",
     "output_type": "stream",
     "text": [
      "[[1, 148, 28, 100, 6, 112, 208, 112, 28, 172, 28, 172, 28]]\n",
      "[[  1 148  28 100   6 112 208 112  28 172  28 172  28   0   0   0   0   0\n",
      "    0   0   0   0   0   0   0   0   0   0   0   0   0   0   0   0]]\n"
     ]
    }
   ],
   "source": [
    "sample_sequences = tokenizer.texts_to_sequences([sample1])\n",
    "print(sample_sequences)\n",
    "\n",
    "sample_padded = pad_sequences (sample_sequences, maxlen = max_len, padding = 'post', truncating = 'post' )\n",
    "print(sample_padded)\n"
   ]
  },
  {
   "cell_type": "code",
   "execution_count": 48,
   "metadata": {},
   "outputs": [
    {
     "name": "stdout",
     "output_type": "stream",
     "text": [
      "1/1 [==============================] - 0s 16ms/step\n"
     ]
    },
    {
     "data": {
      "text/plain": [
       "array([[0.9760538]], dtype=float32)"
      ]
     },
     "execution_count": 48,
     "metadata": {},
     "output_type": "execute_result"
    }
   ],
   "source": [
    "model.predict(sample_padded)"
   ]
  },
  {
   "attachments": {},
   "cell_type": "markdown",
   "metadata": {},
   "source": [
    "# Task - 2"
   ]
  },
  {
   "cell_type": "code",
   "execution_count": 49,
   "metadata": {},
   "outputs": [
    {
     "data": {
      "text/html": [
       "<div>\n",
       "<style scoped>\n",
       "    .dataframe tbody tr th:only-of-type {\n",
       "        vertical-align: middle;\n",
       "    }\n",
       "\n",
       "    .dataframe tbody tr th {\n",
       "        vertical-align: top;\n",
       "    }\n",
       "\n",
       "    .dataframe thead th {\n",
       "        text-align: right;\n",
       "    }\n",
       "</style>\n",
       "<table border=\"1\" class=\"dataframe\">\n",
       "  <thead>\n",
       "    <tr style=\"text-align: right;\">\n",
       "      <th></th>\n",
       "      <th>cleaned_tokens</th>\n",
       "      <th>task1</th>\n",
       "      <th>task2</th>\n",
       "    </tr>\n",
       "  </thead>\n",
       "  <tbody>\n",
       "    <tr>\n",
       "      <th>0</th>\n",
       "      <td>['hate', 'wen', 'females', 'hit', 'ah', 'nigga...</td>\n",
       "      <td>HOF</td>\n",
       "      <td>PRFN</td>\n",
       "    </tr>\n",
       "    <tr>\n",
       "      <th>1</th>\n",
       "      <td>['rt', 'airjunebug', 'youre', 'bay', 'youre', ...</td>\n",
       "      <td>HOF</td>\n",
       "      <td>PRFN</td>\n",
       "    </tr>\n",
       "    <tr>\n",
       "      <th>2</th>\n",
       "      <td>['rt', 'donaldjtrumpjr', 'dear', 'democrats', ...</td>\n",
       "      <td>NOT</td>\n",
       "      <td>NONE</td>\n",
       "    </tr>\n",
       "    <tr>\n",
       "      <th>3</th>\n",
       "      <td>['rt', 'shelovetimothy', 'ain't', 'drugs', 'bo...</td>\n",
       "      <td>NOT</td>\n",
       "      <td>PRFN</td>\n",
       "    </tr>\n",
       "    <tr>\n",
       "      <th>4</th>\n",
       "      <td>['rt', 'tavianjordan', 'summer', ''19', 'i'm',...</td>\n",
       "      <td>NOT</td>\n",
       "      <td>NONE</td>\n",
       "    </tr>\n",
       "  </tbody>\n",
       "</table>\n",
       "</div>"
      ],
      "text/plain": [
       "                                      cleaned_tokens task1 task2\n",
       "0  ['hate', 'wen', 'females', 'hit', 'ah', 'nigga...   HOF  PRFN\n",
       "1  ['rt', 'airjunebug', 'youre', 'bay', 'youre', ...   HOF  PRFN\n",
       "2  ['rt', 'donaldjtrumpjr', 'dear', 'democrats', ...   NOT  NONE\n",
       "3  ['rt', 'shelovetimothy', 'ain't', 'drugs', 'bo...   NOT  PRFN\n",
       "4  ['rt', 'tavianjordan', 'summer', ''19', 'i'm',...   NOT  NONE"
      ]
     },
     "execution_count": 49,
     "metadata": {},
     "output_type": "execute_result"
    }
   ],
   "source": [
    "data = pd.read_csv(\"final_data.csv\")\n",
    "data.head()"
   ]
  },
  {
   "cell_type": "code",
   "execution_count": 50,
   "metadata": {},
   "outputs": [
    {
     "data": {
      "text/plain": [
       "array([\"['hate', 'wen', 'females', 'hit', 'ah', 'nigga', 'tht', 'bro', '', 'i'm', 'tryna', 'make', 'u', 'la', 'sweety', 'fuck', 'ah', 'bro']\",\n",
       "       \"['rt', 'airjunebug', 'youre', 'bay', 'youre', 'really', 'ny', 'nigga', 'heart', 'w', 'supportcaleon', 'httpstcomz8baylnlf']\",\n",
       "       \"['rt', 'donaldjtrumpjr', 'dear', 'democrats', 'american', 'people', 'aren't', 'stupid', 'know', 'spying', 'amount', 'gaslighting', 'change', 'th']\",\n",
       "       ...,\n",
       "       \"['rt', 'flytpa', 'breaking', 'news', 'tpa', 'get', 'even', 'better', 'plans', '2020', '', 'mothers', 'nursing', 'rooms', '', 'water', 'bottle', 'filling', 'st']\",\n",
       "       \"['rt', 'starrtharapper', 'it's', 'hr', 'fuck', 'game', '', 'httpstcoaki6bw8qlz']\",\n",
       "       \"['dont', 'know', 'iam', 'know', 'you']\"], dtype=object)"
      ]
     },
     "execution_count": 50,
     "metadata": {},
     "output_type": "execute_result"
    }
   ],
   "source": [
    "x = data['cleaned_tokens'].values\n",
    "x"
   ]
  },
  {
   "cell_type": "code",
   "execution_count": 51,
   "metadata": {},
   "outputs": [
    {
     "name": "stdout",
     "output_type": "stream",
     "text": [
      "['HATE' 'NONE' 'OFFN' 'PRFN']\n"
     ]
    }
   ],
   "source": [
    "Class = data['task2'].unique()\n",
    "Class.sort()\n",
    "print(Class)"
   ]
  },
  {
   "cell_type": "code",
   "execution_count": 52,
   "metadata": {},
   "outputs": [
    {
     "data": {
      "text/plain": [
       "array(['PRFN', 'PRFN', 'NONE', ..., 'NONE', 'PRFN', 'NONE'], dtype=object)"
      ]
     },
     "execution_count": 52,
     "metadata": {},
     "output_type": "execute_result"
    }
   ],
   "source": [
    "y2 = data.iloc[:,-1].values\n",
    "y2"
   ]
  },
  {
   "cell_type": "code",
   "execution_count": 53,
   "metadata": {},
   "outputs": [],
   "source": [
    "from sklearn.preprocessing import OneHotEncoder\n",
    "\n",
    "encoder = OneHotEncoder() \n",
    "y2 = encoder.fit_transform(np.array(y2).reshape(-1,1)).toarray()"
   ]
  },
  {
   "cell_type": "code",
   "execution_count": 54,
   "metadata": {},
   "outputs": [
    {
     "name": "stdout",
     "output_type": "stream",
     "text": [
      "[[0. 0. 0. 1.]\n",
      " [0. 0. 0. 1.]\n",
      " [0. 1. 0. 0.]\n",
      " ...\n",
      " [0. 1. 0. 0.]\n",
      " [0. 0. 0. 1.]\n",
      " [0. 1. 0. 0.]]\n"
     ]
    }
   ],
   "source": [
    "print(y2)"
   ]
  },
  {
   "cell_type": "code",
   "execution_count": 55,
   "metadata": {},
   "outputs": [],
   "source": [
    "# Map ham label as 0 and spam as 1\n",
    "from sklearn.model_selection import train_test_split\n",
    "\n",
    "train_msg, test_msg, train_labels, test_labels = train_test_split(df['cleaned_tokens'], y2, test_size=0.2, random_state=434, stratify=y2)"
   ]
  },
  {
   "cell_type": "code",
   "execution_count": 56,
   "metadata": {},
   "outputs": [],
   "source": [
    "#Dense model architecture\n",
    "#Dense model architecture\n",
    "from keras.models import Sequential\n",
    "from keras.layers import Dense, Dropout, Embedding, GlobalAveragePooling1D, Conv1D, MaxPooling1D, Activation,Flatten\n",
    "\n",
    "model = Sequential()\n",
    "model.add(Embedding(vocab_size, embeding_dim, input_length=max_len))\n",
    "model.add(Conv1D(filters=32, kernel_size=8, activation='relu'))\n",
    "model.add(MaxPooling1D(pool_size=2))\n",
    "model.add(Flatten())\n",
    "model.add(Dense(24, activation='relu'))\n",
    "model.add(Dropout(drop_value))\n",
    "model.add(Dense(4, activation='sigmoid'))"
   ]
  },
  {
   "cell_type": "code",
   "execution_count": 57,
   "metadata": {},
   "outputs": [],
   "source": [
    "model.compile(loss='categorical_crossentropy',optimizer='adam' ,metrics=['accuracy'])"
   ]
  },
  {
   "cell_type": "code",
   "execution_count": 58,
   "metadata": {},
   "outputs": [
    {
     "name": "stdout",
     "output_type": "stream",
     "text": [
      "Epoch 1/50\n",
      "95/95 [==============================] - 1s 4ms/step - loss: 1.1231 - accuracy: 0.4853 - val_loss: 1.0544 - val_accuracy: 0.5152\n",
      "Epoch 2/50\n",
      "95/95 [==============================] - 0s 3ms/step - loss: 1.0648 - accuracy: 0.4962 - val_loss: 1.0472 - val_accuracy: 0.5152\n",
      "Epoch 3/50\n",
      "95/95 [==============================] - 0s 3ms/step - loss: 1.0529 - accuracy: 0.5071 - val_loss: 1.0479 - val_accuracy: 0.5152\n",
      "Epoch 4/50\n",
      "95/95 [==============================] - 0s 3ms/step - loss: 1.0455 - accuracy: 0.5120 - val_loss: 1.0464 - val_accuracy: 0.5152\n",
      "Epoch 5/50\n",
      "95/95 [==============================] - 0s 3ms/step - loss: 1.0203 - accuracy: 0.5232 - val_loss: 1.0582 - val_accuracy: 0.5152\n",
      "Epoch 6/50\n",
      "95/95 [==============================] - 0s 3ms/step - loss: 0.9915 - accuracy: 0.5236 - val_loss: 1.0711 - val_accuracy: 0.4796\n",
      "Epoch 7/50\n",
      "95/95 [==============================] - 0s 3ms/step - loss: 0.9409 - accuracy: 0.5717 - val_loss: 1.1184 - val_accuracy: 0.4769\n",
      "Epoch 8/50\n",
      "95/95 [==============================] - 0s 3ms/step - loss: 0.8771 - accuracy: 0.6198 - val_loss: 1.1534 - val_accuracy: 0.4585\n",
      "Epoch 9/50\n",
      "95/95 [==============================] - 0s 3ms/step - loss: 0.8099 - accuracy: 0.6629 - val_loss: 1.2316 - val_accuracy: 0.4480\n",
      "Epoch 10/50\n",
      "95/95 [==============================] - 0s 3ms/step - loss: 0.7342 - accuracy: 0.7041 - val_loss: 1.3209 - val_accuracy: 0.4519\n",
      "Epoch 11/50\n",
      "95/95 [==============================] - 0s 3ms/step - loss: 0.6893 - accuracy: 0.7216 - val_loss: 1.3850 - val_accuracy: 0.4664\n",
      "Epoch 12/50\n",
      "95/95 [==============================] - 0s 2ms/step - loss: 0.6355 - accuracy: 0.7423 - val_loss: 1.4676 - val_accuracy: 0.4493\n",
      "Epoch 13/50\n",
      "95/95 [==============================] - 0s 3ms/step - loss: 0.5965 - accuracy: 0.7618 - val_loss: 1.5513 - val_accuracy: 0.4532\n",
      "Epoch 14/50\n",
      "95/95 [==============================] - 0s 3ms/step - loss: 0.5561 - accuracy: 0.7789 - val_loss: 1.6223 - val_accuracy: 0.4585\n",
      "Epoch 15/50\n",
      "95/95 [==============================] - 0s 3ms/step - loss: 0.5182 - accuracy: 0.7954 - val_loss: 1.6929 - val_accuracy: 0.4598\n",
      "Epoch 16/50\n",
      "95/95 [==============================] - 0s 3ms/step - loss: 0.4858 - accuracy: 0.8115 - val_loss: 1.8850 - val_accuracy: 0.4559\n",
      "Epoch 17/50\n",
      "95/95 [==============================] - 0s 3ms/step - loss: 0.4620 - accuracy: 0.8194 - val_loss: 1.9244 - val_accuracy: 0.4585\n",
      "Epoch 18/50\n",
      "95/95 [==============================] - 0s 3ms/step - loss: 0.4316 - accuracy: 0.8283 - val_loss: 2.0384 - val_accuracy: 0.4506\n",
      "Epoch 19/50\n",
      "95/95 [==============================] - 0s 3ms/step - loss: 0.4126 - accuracy: 0.8415 - val_loss: 2.1652 - val_accuracy: 0.4440\n",
      "Epoch 20/50\n",
      "95/95 [==============================] - 0s 3ms/step - loss: 0.3930 - accuracy: 0.8461 - val_loss: 2.2219 - val_accuracy: 0.4506\n",
      "Epoch 21/50\n",
      "95/95 [==============================] - 0s 3ms/step - loss: 0.3780 - accuracy: 0.8530 - val_loss: 2.3909 - val_accuracy: 0.4545\n",
      "Epoch 22/50\n",
      "95/95 [==============================] - 0s 3ms/step - loss: 0.3543 - accuracy: 0.8649 - val_loss: 2.4807 - val_accuracy: 0.4374\n",
      "Epoch 23/50\n",
      "95/95 [==============================] - 0s 3ms/step - loss: 0.3397 - accuracy: 0.8718 - val_loss: 2.5562 - val_accuracy: 0.4427\n",
      "Epoch 24/50\n",
      "95/95 [==============================] - 0s 3ms/step - loss: 0.3287 - accuracy: 0.8741 - val_loss: 2.6578 - val_accuracy: 0.4506\n",
      "Epoch 25/50\n",
      "95/95 [==============================] - 0s 3ms/step - loss: 0.3134 - accuracy: 0.8857 - val_loss: 2.8220 - val_accuracy: 0.4440\n",
      "Epoch 26/50\n",
      "95/95 [==============================] - 0s 3ms/step - loss: 0.2941 - accuracy: 0.8936 - val_loss: 2.8620 - val_accuracy: 0.4480\n",
      "Epoch 27/50\n",
      "95/95 [==============================] - 0s 3ms/step - loss: 0.2841 - accuracy: 0.9018 - val_loss: 3.0967 - val_accuracy: 0.4545\n",
      "Epoch 28/50\n",
      "95/95 [==============================] - 0s 3ms/step - loss: 0.2715 - accuracy: 0.9012 - val_loss: 3.1566 - val_accuracy: 0.4638\n",
      "Epoch 29/50\n",
      "95/95 [==============================] - 0s 3ms/step - loss: 0.2635 - accuracy: 0.9097 - val_loss: 3.1873 - val_accuracy: 0.4387\n",
      "Epoch 30/50\n",
      "95/95 [==============================] - 0s 3ms/step - loss: 0.2510 - accuracy: 0.9114 - val_loss: 3.3661 - val_accuracy: 0.4401\n",
      "Epoch 31/50\n",
      "95/95 [==============================] - 0s 3ms/step - loss: 0.2431 - accuracy: 0.9084 - val_loss: 3.3899 - val_accuracy: 0.4440\n",
      "Epoch 32/50\n",
      "95/95 [==============================] - 0s 3ms/step - loss: 0.2318 - accuracy: 0.9163 - val_loss: 3.5656 - val_accuracy: 0.4532\n",
      "Epoch 33/50\n",
      "95/95 [==============================] - 0s 3ms/step - loss: 0.2209 - accuracy: 0.9236 - val_loss: 3.6544 - val_accuracy: 0.4572\n",
      "Epoch 34/50\n",
      "95/95 [==============================] - 0s 2ms/step - loss: 0.2292 - accuracy: 0.9206 - val_loss: 3.7033 - val_accuracy: 0.4348\n",
      "Epoch 35/50\n",
      "95/95 [==============================] - 0s 2ms/step - loss: 0.2155 - accuracy: 0.9209 - val_loss: 3.8147 - val_accuracy: 0.4572\n",
      "Epoch 36/50\n",
      "95/95 [==============================] - 0s 3ms/step - loss: 0.2141 - accuracy: 0.9269 - val_loss: 3.7993 - val_accuracy: 0.4387\n",
      "Epoch 37/50\n",
      "95/95 [==============================] - 0s 3ms/step - loss: 0.2067 - accuracy: 0.9278 - val_loss: 3.9431 - val_accuracy: 0.4519\n",
      "Epoch 38/50\n",
      "95/95 [==============================] - 0s 3ms/step - loss: 0.1991 - accuracy: 0.9295 - val_loss: 4.0958 - val_accuracy: 0.4493\n",
      "Epoch 39/50\n",
      "95/95 [==============================] - 0s 3ms/step - loss: 0.1904 - accuracy: 0.9311 - val_loss: 4.1853 - val_accuracy: 0.4506\n",
      "Epoch 40/50\n",
      "95/95 [==============================] - 0s 2ms/step - loss: 0.1899 - accuracy: 0.9334 - val_loss: 4.2990 - val_accuracy: 0.4506\n",
      "Epoch 41/50\n",
      "95/95 [==============================] - 0s 3ms/step - loss: 0.1865 - accuracy: 0.9325 - val_loss: 4.2569 - val_accuracy: 0.4374\n",
      "Epoch 42/50\n",
      "95/95 [==============================] - 0s 3ms/step - loss: 0.1840 - accuracy: 0.9384 - val_loss: 4.2078 - val_accuracy: 0.4427\n",
      "Epoch 43/50\n",
      "95/95 [==============================] - 0s 3ms/step - loss: 0.1702 - accuracy: 0.9381 - val_loss: 4.5376 - val_accuracy: 0.4440\n",
      "Epoch 44/50\n",
      "95/95 [==============================] - 0s 3ms/step - loss: 0.1741 - accuracy: 0.9423 - val_loss: 4.4078 - val_accuracy: 0.4453\n",
      "Epoch 45/50\n",
      "95/95 [==============================] - 0s 3ms/step - loss: 0.1712 - accuracy: 0.9381 - val_loss: 4.5103 - val_accuracy: 0.4335\n",
      "Epoch 46/50\n",
      "95/95 [==============================] - 0s 3ms/step - loss: 0.1627 - accuracy: 0.9381 - val_loss: 4.7237 - val_accuracy: 0.4506\n",
      "Epoch 47/50\n",
      "95/95 [==============================] - 0s 2ms/step - loss: 0.1625 - accuracy: 0.9420 - val_loss: 4.6874 - val_accuracy: 0.4440\n",
      "Epoch 48/50\n",
      "95/95 [==============================] - 0s 3ms/step - loss: 0.1601 - accuracy: 0.9450 - val_loss: 4.6593 - val_accuracy: 0.4453\n",
      "Epoch 49/50\n",
      "95/95 [==============================] - 0s 3ms/step - loss: 0.1645 - accuracy: 0.9371 - val_loss: 4.7465 - val_accuracy: 0.4532\n",
      "Epoch 50/50\n",
      "95/95 [==============================] - 0s 2ms/step - loss: 0.1575 - accuracy: 0.9450 - val_loss: 4.7936 - val_accuracy: 0.4545\n"
     ]
    }
   ],
   "source": [
    "# fitting a dense spam detector model\n",
    "from keras.callbacks import EarlyStopping\n",
    "\n",
    "num_epochs = 50\n",
    "history = model.fit(training_padded, train_labels, epochs=num_epochs, validation_data=(testing_padded, test_labels))"
   ]
  },
  {
   "cell_type": "code",
   "execution_count": 59,
   "metadata": {},
   "outputs": [],
   "source": [
    "model.save(\"model2.h5\")"
   ]
  },
  {
   "cell_type": "code",
   "execution_count": 60,
   "metadata": {},
   "outputs": [],
   "source": [
    "# Read as a dataframe \n",
    "import matplotlib.pyplot as plt\n",
    "metrics = pd.DataFrame(history.history)\n",
    "# Rename column\n",
    "metrics.rename(columns = {'loss': 'Training_Loss', 'accuracy': 'Training_Accuracy', 'val_loss': 'Validation_Loss', 'val_accuracy': 'Validation_Accuracy'}, inplace = True)\n",
    "def plot_graphs1(var1, var2, string):\n",
    "    metrics[[var1, var2]].plot()\n",
    "    plt.title('Training and Validation ' + string)\n",
    "    plt.xlabel ('Number of epochs')\n",
    "    plt.ylabel(string)\n",
    "    plt.legend([var1, var2])"
   ]
  },
  {
   "cell_type": "code",
   "execution_count": 61,
   "metadata": {},
   "outputs": [
    {
     "data": {
      "image/png": "[encoded data removed]",
      "text/plain": [
       "<Figure size 640x480 with 1 Axes>"
      ]
     },
     "metadata": {},
     "output_type": "display_data"
    }
   ],
   "source": [
    "plot_graphs1('Training_Loss', 'Validation_Loss', 'loss')"
   ]
  },
  {
   "cell_type": "code",
   "execution_count": 62,
   "metadata": {},
   "outputs": [
    {
     "data": {
      "image/png": "[encoded data removed]",
      "text/plain": [
       "<Figure size 640x480 with 1 Axes>"
      ]
     },
     "metadata": {},
     "output_type": "display_data"
    }
   ],
   "source": [
    "plot_graphs1('Training_Accuracy', 'Validation_Accuracy', 'accuracy')"
   ]
  },
  {
   "cell_type": "code",
   "execution_count": 63,
   "metadata": {},
   "outputs": [
    {
     "name": "stdout",
     "output_type": "stream",
     "text": [
      "24/24 [==============================] - 0s 878us/step\n"
     ]
    }
   ],
   "source": [
    "prediction = model.predict(testing_padded)"
   ]
  },
  {
   "cell_type": "code",
   "execution_count": 64,
   "metadata": {},
   "outputs": [
    {
     "data": {
      "text/plain": [
       "array([[2.12051418e-05, 9.99922931e-01, 7.28743471e-05, 9.99433935e-01],\n",
       "       [5.57340449e-03, 9.99260545e-01, 1.89048937e-03, 8.75909269e-01],\n",
       "       [1.17629020e-06, 9.99216855e-01, 1.55287984e-04, 9.99988437e-01],\n",
       "       ...,\n",
       "       [1.37327835e-01, 6.79129601e-01, 3.15807909e-01, 8.15985024e-01],\n",
       "       [1.07324595e-04, 9.99916077e-01, 1.16024072e-04, 9.94781017e-01],\n",
       "       [8.71832013e-01, 2.29185298e-02, 9.38092530e-01, 1.64896354e-01]],\n",
       "      dtype=float32)"
      ]
     },
     "execution_count": 64,
     "metadata": {},
     "output_type": "execute_result"
    }
   ],
   "source": [
    "prediction"
   ]
  },
  {
   "cell_type": "code",
   "execution_count": 65,
   "metadata": {},
   "outputs": [],
   "source": [
    "sample1 = \"@brewer383 @d_heard00 @daishatatianna I DONT NEED YOURE WHOLE LIFE STORY WHEN YOUR SHIT IS ON PUBLIC RECORD 😂😂😂 have a look yourself\""
   ]
  },
  {
   "cell_type": "code",
   "execution_count": 66,
   "metadata": {},
   "outputs": [
    {
     "name": "stdout",
     "output_type": "stream",
     "text": [
      "@brewer383 @d_heard00 @daishatatianna I DONT NEED YOURE WHOLE LIFE STORY WHEN YOUR SHIT IS ON PUBLIC RECORD 😂😂😂 have a look yourself\n",
      "\n",
      "@brewer383 @d_heard00 @daishatatianna i dont need youre whole life story when your shit is on public record 😂😂😂 have a look yourself\n",
      "brewer383 dheard00 daishatatianna i dont need youre whole life story when your shit is on public record 😂😂😂 have a look yourself\n",
      "['brewer383', 'dheard00', 'daishatatianna', 'i', 'dont', 'need', 'youre', 'whole', 'life', 'story', 'when', 'your', 'shit', 'is', 'on', 'public', 'record', '😂😂😂', 'have', 'a', 'look', 'yourself']\n",
      "['brewer383', 'dheard00', 'daishatatianna', 'dont', 'need', 'youre', 'whole', 'life', 'story', 'shit', 'public', 'record', '😂😂😂', 'look']\n",
      "['brewer383', 'dheard00', 'daishatatianna', 'dont', 'need', 'youre', 'whole', 'life', 'story', 'shit', 'public', 'record', '', 'look']\n"
     ]
    }
   ],
   "source": [
    "sample1 = prepros(sample1)"
   ]
  },
  {
   "cell_type": "code",
   "execution_count": 67,
   "metadata": {},
   "outputs": [
    {
     "name": "stdout",
     "output_type": "stream",
     "text": [
      "[[30, 11, 19, 180, 85, 6, 342, 2, 34]]\n",
      "[[ 30  11  19 180  85   6 342   2  34   0   0   0   0   0   0   0   0   0\n",
      "    0   0   0   0   0   0   0   0   0   0   0   0   0   0   0   0]]\n"
     ]
    }
   ],
   "source": [
    "sample_sequences = tokenizer.texts_to_sequences([sample1])\n",
    "print(sample_sequences)\n",
    "\n",
    "sample_padded = pad_sequences (sample_sequences, maxlen = max_len, padding = 'post', truncating = 'post' )\n",
    "print(sample_padded)"
   ]
  },
  {
   "cell_type": "code",
   "execution_count": 68,
   "metadata": {},
   "outputs": [],
   "source": [
    "result = model.predict(sample_padded, verbose=0)"
   ]
  },
  {
   "cell_type": "code",
   "execution_count": 69,
   "metadata": {},
   "outputs": [
    {
     "data": {
      "text/plain": [
       "array([[7.2263126e-13, 1.0000000e+00, 1.6966110e-12, 9.9999994e-01]],\n",
       "      dtype=float32)"
      ]
     },
     "execution_count": 69,
     "metadata": {},
     "output_type": "execute_result"
    }
   ],
   "source": [
    "result"
   ]
  },
  {
   "cell_type": "code",
   "execution_count": 70,
   "metadata": {},
   "outputs": [],
   "source": [
    "sample2 = \"@Boogie2988 I'm assuming you are talking about GOT but I don't watch that show so I have no idea what you're talking about.\""
   ]
  },
  {
   "cell_type": "code",
   "execution_count": 71,
   "metadata": {},
   "outputs": [
    {
     "name": "stdout",
     "output_type": "stream",
     "text": [
      "@Boogie2988 I'm assuming you are talking about GOT but I don't watch that show so I have no idea what you're talking about.\n",
      "\n",
      "@boogie2988 i'm assuming you are talking about got but i don't watch that show so i have no idea what you're talking about.\n",
      "boogie2988 im assuming you are talking about got but i dont watch that show so i have no idea what youre talking about\n",
      "['boogie2988', 'im', 'assuming', 'you', 'are', 'talking', 'about', 'got', 'but', 'i', 'dont', 'watch', 'that', 'show', 'so', 'i', 'have', 'no', 'idea', 'what', 'youre', 'talking', 'about']\n",
      "['boogie2988', 'im', 'assuming', 'talking', 'got', 'dont', 'watch', 'show', 'idea', 'youre', 'talking']\n",
      "['boogie2988', 'im', 'assuming', 'talking', 'got', 'dont', 'watch', 'show', 'idea', 'youre', 'talking']\n"
     ]
    }
   ],
   "source": [
    "sample2 = prepros(sample2)"
   ]
  },
  {
   "cell_type": "code",
   "execution_count": 72,
   "metadata": {},
   "outputs": [
    {
     "name": "stdout",
     "output_type": "stream",
     "text": [
      "[[28, 165, 26, 30, 237, 72, 19, 165]]\n",
      "[[ 28 165  26  30 237  72  19 165   0   0   0   0   0   0   0   0   0   0\n",
      "    0   0   0   0   0   0   0   0   0   0   0   0   0   0   0   0]]\n"
     ]
    }
   ],
   "source": [
    "sample_sequences = tokenizer.texts_to_sequences([sample2])\n",
    "print(sample_sequences)\n",
    "\n",
    "sample_padded = pad_sequences (sample_sequences, maxlen = max_len, padding = 'post', truncating = 'post' )\n",
    "print(sample_padded)"
   ]
  },
  {
   "cell_type": "code",
   "execution_count": 73,
   "metadata": {},
   "outputs": [],
   "source": [
    "result = model.predict(sample_padded, verbose=0)"
   ]
  },
  {
   "cell_type": "code",
   "execution_count": 74,
   "metadata": {},
   "outputs": [
    {
     "data": {
      "text/plain": [
       "array([[1.4374743e-05, 3.9069313e-05, 9.4487906e-01, 9.9999774e-01]],\n",
       "      dtype=float32)"
      ]
     },
     "execution_count": 74,
     "metadata": {},
     "output_type": "execute_result"
    }
   ],
   "source": [
    "result"
   ]
  },
  {
   "cell_type": "code",
   "execution_count": 75,
   "metadata": {},
   "outputs": [],
   "source": [
    "sample2 = \"RT @DonaldJTrumpJr: Dear Democrats: The American people aren’t stupid, they know what spying is and no amount of gaslighting will change th…\""
   ]
  },
  {
   "cell_type": "code",
   "execution_count": 76,
   "metadata": {},
   "outputs": [
    {
     "name": "stdout",
     "output_type": "stream",
     "text": [
      "RT @DonaldJTrumpJr: Dear Democrats: The American people aren’t stupid, they know what spying is and no amount of gaslighting will change th…\n",
      "\n",
      "rt @donaldjtrumpjr: dear democrats: the american people aren’t stupid, they know what spying is and no amount of gaslighting will change th…\n",
      "rt donaldjtrumpjr dear democrats the american people aren’t stupid they know what spying is and no amount of gaslighting will change th…\n",
      "['rt', 'donaldjtrumpjr', 'dear', 'democrats', 'the', 'american', 'people', 'aren’t', 'stupid', 'they', 'know', 'what', 'spying', 'is', 'and', 'no', 'amount', 'of', 'gaslighting', 'will', 'change', 'th…']\n",
      "['rt', 'donaldjtrumpjr', 'dear', 'democrats', 'american', 'people', 'aren’t', 'stupid', 'know', 'spying', 'amount', 'gaslighting', 'change', 'th…']\n",
      "['rt', 'donaldjtrumpjr', 'dear', 'democrats', 'american', 'people', 'aren't', 'stupid', 'know', 'spying', 'amount', 'gaslighting', 'change', 'th']\n"
     ]
    }
   ],
   "source": [
    "sample2 = prepros(sample2)"
   ]
  },
  {
   "cell_type": "code",
   "execution_count": 77,
   "metadata": {},
   "outputs": [
    {
     "name": "stdout",
     "output_type": "stream",
     "text": [
      "[[1, 15, 32, 14, 445, 164]]\n",
      "[[  1  15  32  14 445 164   0   0   0   0   0   0   0   0   0   0   0   0\n",
      "    0   0   0   0   0   0   0   0   0   0   0   0   0   0   0   0]]\n"
     ]
    }
   ],
   "source": [
    "sample_sequences = tokenizer.texts_to_sequences([sample2])\n",
    "print(sample_sequences)\n",
    "\n",
    "sample_padded = pad_sequences (sample_sequences, maxlen = max_len, padding = 'post', truncating = 'post' )\n",
    "print(sample_padded)"
   ]
  },
  {
   "cell_type": "code",
   "execution_count": 78,
   "metadata": {},
   "outputs": [],
   "source": [
    "result = model.predict(sample_padded, verbose=0)"
   ]
  },
  {
   "cell_type": "code",
   "execution_count": 79,
   "metadata": {},
   "outputs": [
    {
     "data": {
      "text/plain": [
       "array([[2.2758961e-05, 5.1411008e-03, 4.7739318e-01, 9.9998927e-01]],\n",
       "      dtype=float32)"
      ]
     },
     "execution_count": 79,
     "metadata": {},
     "output_type": "execute_result"
    }
   ],
   "source": [
    "result"
   ]
  },
  {
   "cell_type": "code",
   "execution_count": 80,
   "metadata": {},
   "outputs": [
    {
     "data": {
      "text/plain": [
       "3"
      ]
     },
     "execution_count": 80,
     "metadata": {},
     "output_type": "execute_result"
    }
   ],
   "source": [
    "val = np.argmax(result, axis=1)[0]\n",
    "val"
   ]
  },
  {
   "cell_type": "code",
   "execution_count": null,
   "metadata": {},
   "outputs": [],
   "source": []
  }
 ],
 "metadata": {
  "kernelspec": {
   "display_name": "venv",
   "language": "python",
   "name": "python3"
  },
  "language_info": {
   "codemirror_mode": {
    "name": "ipython",
    "version": 3
   },
   "file_extension": ".py",
   "mimetype": "text/x-python",
   "name": "python",
   "nbconvert_exporter": "python",
   "pygments_lexer": "ipython3",
   "version": "3.11.2"
  },
  "orig_nbformat": 4
 },
 "nbformat": 4,
 "nbformat_minor": 2
}
